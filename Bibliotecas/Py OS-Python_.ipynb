{
 "cells": [
  {
   "cell_type": "markdown",
   "metadata": {},
   "source": [
    "# Cartilha Biblioteca OS - Python"
   ]
  },
  {
   "cell_type": "markdown",
   "metadata": {},
   "source": [
    "## Documentação:"
   ]
  },
  {
   "attachments": {},
   "cell_type": "markdown",
   "metadata": {},
   "source": [
    "Link1: https://www.python101.pythonlibrary.org/chapter16_os.html<br>\n",
    "Link2: https://python.readthedocs.io/en/stable/library/os.html<br>\n",
    "Link3: https://www.youtube.com/watch?v=ROCyIPA1wWA"
   ]
  },
  {
   "cell_type": "markdown",
   "metadata": {},
   "source": [
    "## Importação:"
   ]
  },
  {
   "cell_type": "code",
   "execution_count": 3,
   "metadata": {},
   "outputs": [],
   "source": [
    "import os"
   ]
  },
  {
   "cell_type": "markdown",
   "metadata": {},
   "source": [
    "## Principais métodos"
   ]
  },
  {
   "cell_type": "markdown",
   "metadata": {},
   "source": [
    "## Dados do sistema:"
   ]
  },
  {
   "cell_type": "code",
   "execution_count": 4,
   "metadata": {},
   "outputs": [
    {
     "name": "stdout",
     "output_type": "stream",
     "text": [
      "environ({'ALLUSERSPROFILE': 'C:\\\\ProgramData', 'APPDATA': 'C:\\\\Users\\\\danie\\\\AppData\\\\Roaming', 'COMMONPROGRAMFILES': 'C:\\\\Program Files\\\\Common Files', 'COMMONPROGRAMFILES(X86)': 'C:\\\\Program Files (x86)\\\\Common Files', 'COMMONPROGRAMW6432': 'C:\\\\Program Files\\\\Common Files', 'COMPUTERNAME': 'LAPTOP-IURRITLP', 'COMSPEC': 'C:\\\\WINDOWS\\\\system32\\\\cmd.exe', 'DRIVERDATA': 'C:\\\\Windows\\\\System32\\\\Drivers\\\\DriverData', 'FPS_BROWSER_APP_PROFILE_STRING': 'Internet Explorer', 'FPS_BROWSER_USER_PROFILE_STRING': 'Default', 'HOME': 'C:\\\\Users\\\\danie', 'HOMEDRIVE': 'C:', 'HOMEPATH': '\\\\Users\\\\danie', 'LOCALAPPDATA': 'C:\\\\Users\\\\danie\\\\AppData\\\\Local', 'LOGONSERVER': '\\\\\\\\LAPTOP-IURRITLP', 'NUMBER_OF_PROCESSORS': '8', 'ONEDRIVE': 'C:\\\\Users\\\\danie\\\\hashtagtreinamentos.com', 'ONEDRIVECOMMERCIAL': 'C:\\\\Users\\\\danie\\\\hashtagtreinamentos.com', 'ONEDRIVECONSUMER': 'C:\\\\Users\\\\danie\\\\OneDrive', 'OS': 'Windows_NT', 'PATH': 'C:\\\\Users\\\\danie\\\\anaconda3;C:\\\\Users\\\\danie\\\\anaconda3\\\\Library\\\\mingw-w64\\\\bin;C:\\\\Users\\\\danie\\\\anaconda3\\\\Library\\\\usr\\\\bin;C:\\\\Users\\\\danie\\\\anaconda3\\\\Library\\\\bin;C:\\\\Users\\\\danie\\\\anaconda3\\\\Scripts;C:\\\\Program Files (x86)\\\\Common Files\\\\Oracle\\\\Java\\\\javapath;C:\\\\WINDOWS\\\\system32;C:\\\\WINDOWS;C:\\\\WINDOWS\\\\System32\\\\Wbem;C:\\\\WINDOWS\\\\System32\\\\WindowsPowerShell\\\\v1.0\\\\;C:\\\\WINDOWS\\\\System32\\\\OpenSSH\\\\;C:\\\\Users\\\\danie\\\\AppData\\\\Local\\\\Programs\\\\Python\\\\Python38-32;C:\\\\Users\\\\danie\\\\AppData\\\\Local\\\\Programs\\\\Python\\\\env;C:\\\\Program Files\\\\Git\\\\cmd;C:\\\\Program Files\\\\Git\\\\mingw64\\\\bin;C:\\\\Program Files\\\\Git\\\\usr\\\\bin;C:\\\\Program Files (x86)\\\\dotnet\\\\;C:\\\\Program Files\\\\dotnet\\\\;C:\\\\Program Files\\\\Microsoft SQL Server\\\\130\\\\Tools\\\\Binn\\\\;C:\\\\Program Files\\\\Microsoft SQL Server\\\\Client SDK\\\\ODBC\\\\170\\\\Tools\\\\Binn\\\\;C:\\\\Program Files (x86)\\\\Microsoft SQL Server\\\\150\\\\Tools\\\\Binn\\\\;C:\\\\Program Files\\\\Microsoft SQL Server\\\\150\\\\Tools\\\\Binn\\\\;C:\\\\Program Files\\\\Microsoft SQL Server\\\\150\\\\DTS\\\\Binn\\\\;C:\\\\Program Files (x86)\\\\Microsoft SQL Server\\\\150\\\\DTS\\\\Binn\\\\;C:\\\\Program Files\\\\Azure Data Studio\\\\bin;C:\\\\Windows\\\\system32;C:\\\\Windows;C:\\\\Windows\\\\System32\\\\Wbem;C:\\\\Windows\\\\System32\\\\WindowsPowerShell\\\\v1.0\\\\;C:\\\\Windows\\\\System32\\\\OpenSSH\\\\;C:\\\\Program Files\\\\Git\\\\cmd;C:\\\\Users\\\\danie\\\\AppData\\\\Local\\\\Microsoft\\\\WindowsApps;C:\\\\Users\\\\danie\\\\AppData\\\\Local\\\\pip;C:\\\\Users\\\\danie\\\\.dotnet\\\\tools;C:\\\\Users\\\\danie\\\\AppData\\\\Local\\\\Programs\\\\Microsoft VS Code\\\\bin;C:\\\\Users\\\\danie\\\\AppData\\\\Local\\\\Programs\\\\Python\\\\Python39;C:\\\\Users\\\\danie\\\\AppData\\\\Local\\\\Programs\\\\Python\\\\Python39\\\\Scripts;C:\\\\Program Files\\\\JetBrains\\\\PyCharm Community Edition 2020.2.3\\\\bin;;C:\\\\Users\\\\danie\\\\AppData\\\\Roaming\\\\Microsoft\\\\Windows\\\\Start Menu\\\\Programs\\\\Anaconda3 (64-bit);;C:\\\\Users\\\\danie\\\\AppData\\\\Local\\\\Microsoft\\\\WindowsApps;C:\\\\Program Files\\\\Azure Data Studio\\\\bin', 'PATHEXT': '.COM;.EXE;.BAT;.CMD;.VBS;.VBE;.JS;.JSE;.WSF;.WSH;.MSC', 'PROCESSOR_ARCHITECTURE': 'AMD64', 'PROCESSOR_IDENTIFIER': 'Intel64 Family 6 Model 142 Stepping 12, GenuineIntel', 'PROCESSOR_LEVEL': '6', 'PROCESSOR_REVISION': '8e0c', 'PROGRAMDATA': 'C:\\\\ProgramData', 'PROGRAMFILES': 'C:\\\\Program Files', 'PROGRAMFILES(X86)': 'C:\\\\Program Files (x86)', 'PROGRAMW6432': 'C:\\\\Program Files', 'PSMODULEPATH': 'C:\\\\Program Files\\\\WindowsPowerShell\\\\Modules;C:\\\\WINDOWS\\\\system32\\\\WindowsPowerShell\\\\v1.0\\\\Modules;C:\\\\Program Files (x86)\\\\Microsoft SQL Server\\\\150\\\\Tools\\\\PowerShell\\\\Modules\\\\', 'PUBLIC': 'C:\\\\Users\\\\Public', 'PYCHARM COMMUNITY EDITION': 'C:\\\\Program Files\\\\JetBrains\\\\PyCharm Community Edition 2020.2.3\\\\bin;', 'SESSIONNAME': 'Console', 'SYSTEMDRIVE': 'C:', 'SYSTEMROOT': 'C:\\\\WINDOWS', 'TEMP': 'C:\\\\Users\\\\danie\\\\AppData\\\\Local\\\\Temp', 'TMP': 'C:\\\\Users\\\\danie\\\\AppData\\\\Local\\\\Temp', 'USERDOMAIN': 'LAPTOP-IURRITLP', 'USERDOMAIN_ROAMINGPROFILE': 'LAPTOP-IURRITLP', 'USERNAME': 'danie', 'USERPROFILE': 'C:\\\\Users\\\\danie', 'WINDIR': 'C:\\\\WINDOWS', 'CONDA_PREFIX': 'C:\\\\Users\\\\danie\\\\anaconda3', 'KERNEL_LAUNCH_TIMEOUT': '40', 'JPY_INTERRUPT_EVENT': '2392', 'IPY_INTERRUPT_EVENT': '2392', 'JPY_PARENT_PID': '2356', 'TERM': 'xterm-color', 'CLICOLOR': '1', 'PAGER': 'cat', 'GIT_PAGER': 'cat', 'MPLBACKEND': 'module://ipykernel.pylab.backend_inline'})\n"
     ]
    }
   ],
   "source": [
    "sistema = os.environ\n",
    "print(sistema)"
   ]
  },
  {
   "cell_type": "code",
   "execution_count": 5,
   "metadata": {},
   "outputs": [
    {
     "name": "stdout",
     "output_type": "stream",
     "text": [
      "danie\n"
     ]
    }
   ],
   "source": [
    "print(sistema[\"USERNAME\"])"
   ]
  },
  {
   "cell_type": "markdown",
   "metadata": {},
   "source": [
    "## Trabalhando com pastas:"
   ]
  },
  {
   "cell_type": "markdown",
   "metadata": {},
   "source": [
    "### os.getcwd():"
   ]
  },
  {
   "cell_type": "code",
   "execution_count": 6,
   "metadata": {},
   "outputs": [
    {
     "name": "stdout",
     "output_type": "stream",
     "text": [
      "C:\\Users\\danie\\OneDrive\\Documentos\\DC Consultoria\\02.Hashtag\\Conteúdo Youtube\\OS\n"
     ]
    }
   ],
   "source": [
    "caminho = os.getcwd()\n",
    "print(caminho)"
   ]
  },
  {
   "cell_type": "markdown",
   "metadata": {},
   "source": [
    "### os.chdir():"
   ]
  },
  {
   "cell_type": "code",
   "execution_count": 7,
   "metadata": {},
   "outputs": [
    {
     "name": "stdout",
     "output_type": "stream",
     "text": [
      "C:\\Users\\danie\\OneDrive\\Área de Trabalho\n"
     ]
    }
   ],
   "source": [
    "novo_caminho = r\"C:\\Users\\danie\\OneDrive\\Área de Trabalho\"\n",
    "os.chdir(novo_caminho) \n",
    "print(os.getcwd())"
   ]
  },
  {
   "cell_type": "markdown",
   "metadata": {},
   "source": [
    "### os.mkdir()  e os.listdir()"
   ]
  },
  {
   "cell_type": "code",
   "execution_count": 8,
   "metadata": {},
   "outputs": [
    {
     "name": "stdout",
     "output_type": "stream",
     "text": [
      "['Cartilhas Python', 'Contrato_Mútuo_Minuta_v0.docx', 'CRM', 'desktop.ini', 'fundo.png', 'Hashtag.lnk', 'Itaú.lnk', 'Kindle.lnk', 'Microsoft Teams.lnk', \"Sid Meier's Civilization VI.url\", 'TESTE', 'TESTE1', 'Visual Studio Code.lnk', 'WhatsApp.lnk', 'Zoom.lnk', 'ZoomIt.exe']\n"
     ]
    }
   ],
   "source": [
    "os.mkdir(\"TESTE\")\n",
    "print(os.listdir()) # Lista todos os arquivos de uma pasta"
   ]
  },
  {
   "cell_type": "markdown",
   "metadata": {},
   "source": [
    "### os.mkdirs()"
   ]
  },
  {
   "cell_type": "code",
   "execution_count": 61,
   "metadata": {},
   "outputs": [],
   "source": [
    "caminho = r\"C:\\Users\\danie\\OneDrive\\Área de Trabalho\\TESTE\\Primeira Pasta\\Segunda Pasta\\Terceira Pasta\"\n",
    "os.makedirs(caminho)"
   ]
  },
  {
   "cell_type": "markdown",
   "metadata": {},
   "source": [
    "### os.rmdir()"
   ]
  },
  {
   "cell_type": "code",
   "execution_count": 26,
   "metadata": {},
   "outputs": [],
   "source": [
    "#só quando a pasta estiver vazia\n",
    "os.rmdir(r'C:\\Users\\danie\\OneDrive\\Área de Trabalho\\TESTE\\Primeira Pasta\\Segunda Pasta\\Terceira Pasta')"
   ]
  },
  {
   "cell_type": "code",
   "execution_count": 21,
   "metadata": {},
   "outputs": [
    {
     "name": "stdout",
     "output_type": "stream",
     "text": [
      "False\n",
      "True\n",
      "False\n",
      "True\n",
      "True\n",
      "True\n",
      "True\n",
      "True\n",
      "True\n",
      "True\n",
      "False\n",
      "False\n",
      "True\n",
      "True\n",
      "True\n",
      "True\n"
     ]
    }
   ],
   "source": [
    "pastas = os.scandir(r\"C:\\Users\\danie\\OneDrive\\Área de Trabalho\")\n",
    "for _dir in pastas:\n",
    "    print (_dir.is_file())\n",
    "    #print (_dir.is_dir())\n",
    "    #print (_dir.path)\n",
    "    "
   ]
  },
  {
   "cell_type": "markdown",
   "metadata": {},
   "source": [
    "## Trabalhando com arquivos:"
   ]
  },
  {
   "cell_type": "markdown",
   "metadata": {},
   "source": [
    "### os.startfile()"
   ]
  },
  {
   "cell_type": "code",
   "execution_count": 38,
   "metadata": {},
   "outputs": [],
   "source": [
    "os.getcwd()\n",
    "os.startfile('arquivo.txt')"
   ]
  },
  {
   "cell_type": "markdown",
   "metadata": {},
   "source": [
    "### os.rename()"
   ]
  },
  {
   "cell_type": "code",
   "execution_count": null,
   "metadata": {},
   "outputs": [],
   "source": [
    "os.rename('novoarquivo.txt','antigoarquivo.txt')"
   ]
  },
  {
   "cell_type": "markdown",
   "metadata": {},
   "source": [
    "### os.remove()"
   ]
  },
  {
   "cell_type": "code",
   "execution_count": null,
   "metadata": {},
   "outputs": [],
   "source": [
    "os.remove('arquivo.txt')"
   ]
  },
  {
   "cell_type": "markdown",
   "metadata": {},
   "source": [
    "### os.walk()"
   ]
  },
  {
   "cell_type": "code",
   "execution_count": 43,
   "metadata": {},
   "outputs": [
    {
     "name": "stdout",
     "output_type": "stream",
     "text": [
      "['Contrato_Mútuo_Minuta_v0.docx', 'desktop.ini', 'Hashtag.lnk', 'Itaú.lnk', 'Kindle.lnk', 'Microsoft Teams.lnk', \"Sid Meier's Civilization VI.url\", 'Visual Studio Code.lnk', 'WhatsApp.lnk', 'Zoom.lnk', 'ZoomIt.exe']\n",
      "['Gabarito - 07.07.02 Exercícios Listas.ipynb', 'Gabarito - Dicionario 06.ipynb', 'Gabarito - While 01.ipynb', 'Untitled.ipynb']\n",
      "['Gabarito - 07.07.02 Exercícios Listas-checkpoint.ipynb', 'Gabarito - Dicionario 06-checkpoint.ipynb', 'Gabarito - While 01-checkpoint.ipynb', 'Untitled-checkpoint.ipynb']\n",
      "[]\n",
      "[]\n",
      "[]\n",
      "['Gabarito - Pandas 03-checkpoint.ipynb']\n",
      "['Contoso - Cadastro Produtos.csv', 'Contoso - Clientes.csv', 'Contoso - Lojas.csv', 'Contoso - Promocoes.csv', 'Contoso - Vendas  - 2017.csv', 'Gabarito - Pandas 07 (1).ipynb']\n",
      "['Gabarito - Pandas 07 (1)-checkpoint.ipynb']\n",
      "['Contoso - Cadastro Produtos.csv', 'Contoso - Clientes.csv', 'Contoso - Lojas.csv', 'Contoso - Promocoes.csv', 'Contoso - Vendas  - 2017.csv', 'Gabarito - Pandas 10.ipynb']\n",
      "['Gabarito - Pandas 10-checkpoint.ipynb']\n",
      "['Gabarito - Pandas 09 (1).ipynb']\n",
      "['Gabarito - Pandas 09 (1)-checkpoint.ipynb']\n",
      "['Contoso - Cadastro Produtos.csv', 'Contoso - Clientes.csv', 'Contoso - Lojas.csv', 'Contoso - Promocoes.csv', 'Contoso - Vendas  - 2017.csv', 'Gabarito - Pandas 03.ipynb', 'Pandas 03.ipynb']\n",
      "[]\n",
      "['Contoso - Cadastro Produtos.csv', 'Contoso - Clientes.csv', 'Contoso - Lojas.csv', 'Contoso - Promocoes.csv', 'Contoso - Vendas  - 2017.csv', 'Gabarito - Pandas 08.ipynb', 'Novo Vendas Produtos.csv']\n",
      "['Gabarito - Pandas 08-checkpoint.ipynb']\n",
      "['Contoso - Cadastro Produtos.csv', 'Contoso - Clientes.csv', 'Contoso - Lojas.csv', 'Contoso - Promocoes.csv', 'Contoso - Vendas  - 2017.csv', 'Gabarito - Pandas 06.ipynb']\n",
      "['Gabarito - Pandas 06-checkpoint.ipynb']\n",
      "['Contoso - Cadastro Produtos.csv', 'Contoso - Clientes.csv', 'Contoso - Lojas.csv', 'Contoso - Promocoes.csv', 'Contoso - Vendas  - 2017.csv', 'Gabarito - Pandas 04.ipynb', 'Pandas 04.ipynb']\n",
      "['Gabarito - Pandas 04-checkpoint.ipynb']\n",
      "['Contoso - Cadastro Produtos.csv', 'Contoso - Clientes.csv', 'Contoso - Lojas.csv', 'Contoso - Promocoes.csv', 'Contoso - Vendas  - 2017.csv', 'Gabarito - Pandas 07 (2).ipynb']\n",
      "['Gabarito - Pandas 07 (2)-checkpoint.ipynb']\n",
      "['Contoso - Cadastro Produtos.csv', 'Contoso - Clientes.csv', 'Contoso - Lojas.csv', 'Contoso - Promocoes.csv', 'Contoso - Vendas  - 2017.csv', 'Gabarito - Pandas 05 (1).ipynb']\n",
      "['Gabarito - Pandas 05 (1)-checkpoint.ipynb']\n",
      "['Alunos.txt', 'Gabarito - Python Integrações com txt e csv 01 (1).ipynb', 'Resumo 2.txt', 'teste.txt']\n",
      "['Gabarito - Python Integrações com txt e csv 01 (1)-checkpoint.ipynb']\n",
      "['Arquivos_Lojas.zip', 'Gabarito - Python e Arquivos do Computador 01 (1).ipynb']\n",
      "['Gabarito - Python e Arquivos do Computador 01 (1)-checkpoint.ipynb']\n",
      "['201801_Amazonas Shopping_AM.csv', '201801_Amazonas Shopping_AM_versao2.csv', '201801_Barra Shopping_RJ.csv', '201801_BH Shopping_MG.csv', '201801_Bourbon_SP.csv', '201801_Buriti Shopping_GO.csv', '201801_Cidade de Sao Paulo_SP.csv', '201801_Goiania Shopping_GO.csv', '201801_Ibirapuera_SP.csv', '201801_Iguatemi_SP.csv', '201801_Independência Shopping_MG.csv', '201801_JK Iguatemi_SP.csv', '201801_Minas Shopping_MG.csv', '201801_Morumbi_SP.csv', '201801_Plaza Shopping_RJ.csv', '201801_Rio Sul_RJ.csv', '201801_Shopping Cidade_MG.csv', '201801_Shopping Leblon_RJ.csv', '201801_Shopping Tijuca_RJ.csv', '201802_Amazonas Shopping_AM.csv', '201802_Barra Shopping_RJ.csv', '201802_BH Shopping_MG.csv', '201802_Bourbon_SP.csv', '201802_Buriti Shopping_GO.csv', '201802_Cidade de Sao Paulo_SP.csv', '201802_Goiania Shopping_GO.csv', '201802_Ibirapuera_SP.csv', '201802_Iguatemi_SP.csv', '201802_Independência Shopping_MG.csv', '201802_JK Iguatemi_SP.csv', '201802_Minas Shopping_MG.csv', '201802_Morumbi_SP.csv', '201802_Plaza Shopping_RJ.csv', '201802_Rio Sul_RJ.csv', '201802_Shopping Cidade_MG.csv', '201802_Shopping Leblon_RJ.csv', '201802_Shopping Tijuca_RJ.csv', '201803_Amazonas Shopping_AM.csv', '201803_Barra Shopping_RJ.csv', '201803_BH Shopping_MG.csv', '201803_Bourbon_SP.csv', '201803_Buriti Shopping_GO.csv', '201803_Cidade de Sao Paulo_SP.csv', '201803_Goiania Shopping_GO.csv', '201803_Ibirapuera_SP.csv', '201803_Iguatemi_SP.csv', '201803_Independência Shopping_MG.csv', '201803_JK Iguatemi_SP.csv', '201803_Minas Shopping_MG.csv', '201803_Morumbi_SP.csv', '201803_Plaza Shopping_RJ.csv', '201803_Rio Sul_RJ.csv', '201803_Shopping Cidade_MG.csv', '201803_Shopping Leblon_RJ.csv', '201803_Shopping Tijuca_RJ.csv', '201804_Amazonas Shopping_AM.csv', '201804_Barra Shopping_RJ.csv', '201804_BH Shopping_MG.csv', '201804_Bourbon_SP.csv', '201804_Buriti Shopping_GO.csv', '201804_Cidade de Sao Paulo_SP.csv', '201804_Goiania Shopping_GO.csv', '201804_Ibirapuera_SP.csv', '201804_Iguatemi_SP.csv', '201804_Independência Shopping_MG.csv', '201804_JK Iguatemi_SP.csv', '201804_Minas Shopping_MG.csv', '201804_Morumbi_SP.csv', '201804_Plaza Shopping_RJ.csv', '201804_Rio Sul_RJ.csv', '201804_Shopping Cidade_MG.csv', '201804_Shopping Leblon_RJ.csv', '201804_Shopping Tijuca_RJ.csv', '201901_Amazonas Shopping_AM.csv', '201901_Barra Shopping_RJ.csv', '201901_BH Shopping_MG.csv', '201901_Bourbon_SP.csv', '201901_Buriti Shopping_GO.csv', '201901_Cidade de Sao Paulo_SP.csv', '201901_Goiania Shopping_GO.csv', '201901_Ibirapuera_SP.csv', '201901_Iguatemi_SP.csv', '201901_Independência Shopping_MG.csv', '201901_JK Iguatemi_SP.csv', '201901_Minas Shopping_MG.csv', '201901_Morumbi_SP.csv', '201901_Plaza Shopping_RJ.csv', '201901_Rio Sul_RJ.csv', '201901_Shopping Cidade_MG.csv', '201901_Shopping Leblon_RJ.csv', '201901_Shopping Tijuca_RJ.csv', '201902_Amazonas Shopping_AM.csv', '201902_Barra Shopping_RJ.csv', '201902_BH Shopping_MG.csv', '201902_Bourbon_SP.csv', '201902_Buriti Shopping_GO.csv', '201902_Cidade de Sao Paulo_SP.csv', '201902_Goiania Shopping_GO.csv', '201902_Ibirapuera_SP.csv', '201902_Iguatemi_SP.csv', '201902_Independência Shopping_MG.csv', '201902_JK Iguatemi_SP.csv', '201902_Minas Shopping_MG.csv', '201902_Morumbi_SP.csv', '201902_Plaza Shopping_RJ.csv', '201902_Rio Sul_RJ.csv', '201902_Shopping Cidade_MG.csv', '201902_Shopping Leblon_RJ.csv', '201902_Shopping Tijuca_RJ.csv', '201903_Amazonas Shopping_AM.csv', '201903_Barra Shopping_RJ.csv', '201903_BH Shopping_MG.csv', '201903_Bourbon_SP.csv', '201903_Buriti Shopping_GO.csv', '201903_Cidade de Sao Paulo_SP.csv', '201903_Goiania Shopping_GO.csv', '201903_Ibirapuera_SP.csv', '201903_Iguatemi_SP.csv', '201903_Independência Shopping_MG.csv', '201903_JK Iguatemi_SP.csv', '201903_Minas Shopping_MG.csv', '201903_Morumbi_SP.csv', '201903_Plaza Shopping_RJ.csv', '201903_Rio Sul_RJ.csv', '201903_Shopping Cidade_MG.csv', '201903_Shopping Leblon_RJ.csv', '201903_Shopping Tijuca_RJ.csv', '201904_Amazonas Shopping_AM.csv', '201904_Barra Shopping_RJ.csv', '201904_BH Shopping_MG.csv', '201904_Bourbon_SP.csv', '201904_Buriti Shopping_GO.csv', '201904_Cidade de Sao Paulo_SP.csv', '201904_Goiania Shopping_GO.csv', '201904_Ibirapuera_SP.csv', '201904_Iguatemi_SP.csv', '201904_Independência Shopping_MG.csv', '201904_JK Iguatemi_SP.csv', '201904_Minas Shopping_MG.csv', '201904_Morumbi_SP.csv', '201904_Plaza Shopping_RJ.csv', '201904_Rio Sul_RJ.csv', '201904_Shopping Cidade_MG.csv', '201904_Shopping Leblon_RJ.csv', '201904_Shopping Tijuca_RJ.csv', '202001_Amazonas Shopping_AM.csv', '202001_Barra Shopping_RJ.csv', '202001_BH Shopping_MG.csv', '202001_Bourbon_SP.csv', '202001_Buriti Shopping_GO.csv', '202001_Cidade de Sao Paulo_SP.csv', '202001_Goiania Shopping_GO.csv', '202001_Ibirapuera_SP.csv', '202001_Iguatemi_SP.csv', '202001_Independência Shopping_MG.csv', '202001_JK Iguatemi_SP.csv', '202001_Minas Shopping_MG.csv', '202001_Morumbi_SP.csv', '202001_Plaza Shopping_RJ.csv', '202001_Rio Sul_RJ.csv', '202001_Shopping Cidade_MG.csv', '202001_Shopping Leblon_RJ.csv', '202001_Shopping Tijuca_RJ.csv', '202002_Amazonas Shopping_AM.csv', '202002_Barra Shopping_RJ.csv', '202002_BH Shopping_MG.csv', '202002_Bourbon_SP.csv', '202002_Buriti Shopping_GO.csv', '202002_Cidade de Sao Paulo_SP.csv', '202002_Goiania Shopping_GO.csv', '202002_Ibirapuera_SP.csv', '202002_Iguatemi_SP.csv', '202002_Independência Shopping_MG.csv', '202002_JK Iguatemi_SP.csv', '202002_Minas Shopping_MG.csv', '202002_Morumbi_SP.csv', '202002_Plaza Shopping_RJ.csv', '202002_Rio Sul_RJ.csv', '202002_Shopping Cidade_MG.csv', '202002_Shopping Leblon_RJ.csv', '202002_Shopping Tijuca_RJ.csv', '202003_Amazonas Shopping_AM.csv', '202003_Barra Shopping_RJ.csv', '202003_BH Shopping_MG.csv', '202003_Bourbon_SP.csv', '202003_Buriti Shopping_GO.csv', '202003_Cidade de Sao Paulo_SP.csv', '202003_Goiania Shopping_GO.csv', '202003_Ibirapuera_SP.csv', '202003_Iguatemi_SP.csv', '202003_Independência Shopping_MG.csv', '202003_JK Iguatemi_SP.csv', '202003_Minas Shopping_MG.csv', '202003_Morumbi_SP.csv', '202003_Plaza Shopping_RJ.csv', '202003_Rio Sul_RJ.csv', '202003_Shopping Cidade_MG.csv', '202003_Shopping Leblon_RJ.csv', '202003_Shopping Tijuca_RJ.csv', '202004_Amazonas Shopping_AM.csv', '202004_Barra Shopping_RJ.csv', '202004_BH Shopping_MG.csv', '202004_Bourbon_SP.csv', '202004_Buriti Shopping_GO.csv', '202004_Cidade de Sao Paulo_SP.csv', '202004_Goiania Shopping_GO.csv', '202004_Ibirapuera_SP.csv', '202004_Iguatemi_SP.csv', '202004_Independência Shopping_MG.csv', '202004_JK Iguatemi_SP.csv', '202004_Minas Shopping_MG.csv', '202004_Morumbi_SP.csv', '202004_Plaza Shopping_RJ.csv', '202004_Rio Sul_RJ.csv', '202004_Shopping Cidade_MG.csv', '202004_Shopping Leblon_RJ.csv', '202004_Shopping Tijuca_RJ.csv']\n",
      "[]\n",
      "['Financeiro.xlsx', 'Logística.xlsx', 'Python com Email 01 (1).ipynb', 'Untitled.ipynb']\n",
      "['Python com Email 01 (1)-checkpoint.ipynb', 'Untitled-checkpoint.ipynb']\n",
      "['ContosoBIdemoBAK.exe', 'ContosoRetailDW.bak', 'Data Dictionary of Contoso BI demo dataset for Retail Industry.xlsx', 'Gabarito - Python e SQL 02.ipynb', 'Python e SQL 01.ipynb', 'SSMS-Setup-PTB.exe']\n",
      "['Gabarito - Python e SQL 02-checkpoint.ipynb', 'Python e SQL 01-checkpoint.ipynb']\n",
      "['Gabarito - Python e Web 05.ipynb', 'Python e Web 01.ipynb']\n",
      "['Gabarito - Python e Web 05-checkpoint.ipynb', 'Python e Web 01-checkpoint.ipynb']\n",
      "['Gabarito - Python e API 01.ipynb', 'Gabarito - Python e SMS 01.ipynb']\n",
      "['Gabarito - Python e API 01-checkpoint.ipynb', 'Gabarito - Python e SMS 01-checkpoint.ipynb']\n",
      "['Carteira.xlsx', 'Gabarito - Python e Finanças 01.ipynb', 'Gabarito - Python e Finanças 02.ipynb']\n",
      "['Gabarito - Python e Finanças 01-checkpoint.ipynb', 'Gabarito - Python e Finanças 02-checkpoint.ipynb']\n",
      "[]\n",
      "[]\n",
      "['Canais Youtube.csv', 'Gabarito - Python para exe 04.ipynb', 'Gabarito - Python para exe 04.py', 'Python para exe 02.py', 'Python para exe 04 (1).ipynb']\n",
      "['Gabarito - Python para exe 04-checkpoint.ipynb', 'Python para exe 04 (1)-checkpoint.ipynb']\n",
      "['Python para exe 02.ipynb', 'Python para exe 02.spec', 'sms.zip']\n",
      "['Python para exe 02-checkpoint.ipynb']\n",
      "[]\n",
      "['Analysis-00.toc', 'base_library.zip', 'COLLECT-00.toc', 'EXE-00.toc', 'PKG-00.pkg', 'PKG-00.toc', 'Python para exe 02.exe', 'Python para exe 02.exe.manifest', 'PYZ-00.pyz', 'PYZ-00.toc', 'Tree-00.toc', 'Tree-01.toc', 'Tree-02.toc', 'warn-Python para exe 02.txt', 'xref-Python para exe 02.html']\n",
      "[]\n",
      "['api-ms-win-core-console-l1-1-0.dll', 'api-ms-win-core-datetime-l1-1-0.dll', 'api-ms-win-core-debug-l1-1-0.dll', 'api-ms-win-core-errorhandling-l1-1-0.dll', 'api-ms-win-core-file-l1-1-0.dll', 'api-ms-win-core-file-l1-2-0.dll', 'api-ms-win-core-file-l2-1-0.dll', 'api-ms-win-core-handle-l1-1-0.dll', 'api-ms-win-core-heap-l1-1-0.dll', 'api-ms-win-core-interlocked-l1-1-0.dll', 'api-ms-win-core-libraryloader-l1-1-0.dll', 'api-ms-win-core-localization-l1-2-0.dll', 'api-ms-win-core-memory-l1-1-0.dll', 'api-ms-win-core-namedpipe-l1-1-0.dll', 'api-ms-win-core-processenvironment-l1-1-0.dll', 'api-ms-win-core-processthreads-l1-1-0.dll', 'api-ms-win-core-processthreads-l1-1-1.dll', 'api-ms-win-core-profile-l1-1-0.dll', 'api-ms-win-core-rtlsupport-l1-1-0.dll', 'api-ms-win-core-string-l1-1-0.dll', 'api-ms-win-core-synch-l1-1-0.dll', 'api-ms-win-core-synch-l1-2-0.dll', 'api-ms-win-core-sysinfo-l1-1-0.dll', 'api-ms-win-core-timezone-l1-1-0.dll', 'api-ms-win-core-util-l1-1-0.dll', 'api-ms-win-crt-conio-l1-1-0.dll', 'api-ms-win-crt-convert-l1-1-0.dll', 'api-ms-win-crt-environment-l1-1-0.dll', 'api-ms-win-crt-filesystem-l1-1-0.dll', 'api-ms-win-crt-heap-l1-1-0.dll', 'api-ms-win-crt-locale-l1-1-0.dll', 'api-ms-win-crt-math-l1-1-0.dll', 'api-ms-win-crt-multibyte-l1-1-0.dll', 'api-ms-win-crt-process-l1-1-0.dll', 'api-ms-win-crt-runtime-l1-1-0.dll', 'api-ms-win-crt-stdio-l1-1-0.dll', 'api-ms-win-crt-string-l1-1-0.dll', 'api-ms-win-crt-time-l1-1-0.dll', 'api-ms-win-crt-utility-l1-1-0.dll', 'base_library.zip', 'libcrypto-1_1-x64.dll', 'libffi-7.dll', 'libssl-1_1-x64.dll', 'mfc140u.dll', 'pyexpat.pyd', 'Python para exe 02.exe', 'Python para exe 02.exe.manifest', 'python38.dll', 'pythoncom38.dll', 'pywintypes38.dll', 'select.pyd', 'ucrtbase.dll', 'unicodedata.pyd', 'VCRUNTIME140.dll', 'win32api.pyd', 'win32evtlog.pyd', 'win32trace.pyd', 'win32ui.pyd', 'win32wnet.pyd', '_asyncio.pyd', '_bz2.pyd', '_cffi_backend.cp38-win_amd64.pyd', '_ctypes.pyd', '_decimal.pyd', '_hashlib.pyd', '_lzma.pyd', '_multiprocessing.pyd', '_overlapped.pyd', '_queue.pyd', '_socket.pyd', '_ssl.pyd', '_win32sysloader.pyd']\n",
      "['_brotli.cp38-win_amd64.pyd']\n",
      "['cacert.pem']\n",
      "[]\n",
      "[]\n",
      "['_constant_time.cp38-win_amd64.pyd', '_openssl.cp38-win_amd64.pyd']\n",
      "['AUTHORS.rst', 'INSTALLER', 'LICENSE', 'LICENSE.APACHE', 'LICENSE.BSD', 'LICENSE.PSF', 'METADATA', 'RECORD', 'top_level.txt', 'WHEEL']\n",
      "['pyconfig.h']\n",
      "[]\n",
      "['CET', 'CST6CDT', 'Cuba', 'EET', 'Egypt', 'Eire', 'EST', 'EST5EDT', 'Factory', 'GB', 'GB-Eire', 'GMT', 'GMT+0', 'GMT-0', 'GMT0', 'Greenwich', 'Hongkong', 'HST', 'Iceland', 'Iran', 'iso3166.tab', 'Israel', 'Jamaica', 'Japan', 'Kwajalein', 'leapseconds', 'Libya', 'MET', 'MST', 'MST7MDT', 'Navajo', 'NZ', 'NZ-CHAT', 'Poland', 'Portugal', 'posixrules', 'PRC', 'PST8PDT', 'ROC', 'ROK', 'Singapore', 'Turkey', 'tzdata.zi', 'UCT', 'Universal', 'UTC', 'W-SU', 'WET', 'zone.tab', 'zone1970.tab', 'Zulu']\n",
      "['Abidjan', 'Accra', 'Addis_Ababa', 'Algiers', 'Asmara', 'Asmera', 'Bamako', 'Bangui', 'Banjul', 'Bissau', 'Blantyre', 'Brazzaville', 'Bujumbura', 'Cairo', 'Casablanca', 'Ceuta', 'Conakry', 'Dakar', 'Dar_es_Salaam', 'Djibouti', 'Douala', 'El_Aaiun', 'Freetown', 'Gaborone', 'Harare', 'Johannesburg', 'Juba', 'Kampala', 'Khartoum', 'Kigali', 'Kinshasa', 'Lagos', 'Libreville', 'Lome', 'Luanda', 'Lubumbashi', 'Lusaka', 'Malabo', 'Maputo', 'Maseru', 'Mbabane', 'Mogadishu', 'Monrovia', 'Nairobi', 'Ndjamena', 'Niamey', 'Nouakchott', 'Ouagadougou', 'Porto-Novo', 'Sao_Tome', 'Timbuktu', 'Tripoli', 'Tunis', 'Windhoek']\n",
      "['Adak', 'Anchorage', 'Anguilla', 'Antigua', 'Araguaina', 'Aruba', 'Asuncion', 'Atikokan', 'Atka', 'Bahia', 'Bahia_Banderas', 'Barbados', 'Belem', 'Belize', 'Blanc-Sablon', 'Boa_Vista', 'Bogota', 'Boise', 'Buenos_Aires', 'Cambridge_Bay', 'Campo_Grande', 'Cancun', 'Caracas', 'Catamarca', 'Cayenne', 'Cayman', 'Chicago', 'Chihuahua', 'Coral_Harbour', 'Cordoba', 'Costa_Rica', 'Creston', 'Cuiaba', 'Curacao', 'Danmarkshavn', 'Dawson', 'Dawson_Creek', 'Denver', 'Detroit', 'Dominica', 'Edmonton', 'Eirunepe', 'El_Salvador', 'Ensenada', 'Fortaleza', 'Fort_Nelson', 'Fort_Wayne', 'Glace_Bay', 'Godthab', 'Goose_Bay', 'Grand_Turk', 'Grenada', 'Guadeloupe', 'Guatemala', 'Guayaquil', 'Guyana', 'Halifax', 'Havana', 'Hermosillo', 'Indianapolis', 'Inuvik', 'Iqaluit', 'Jamaica', 'Jujuy', 'Juneau', 'Knox_IN', 'Kralendijk', 'La_Paz', 'Lima', 'Los_Angeles', 'Louisville', 'Lower_Princes', 'Maceio', 'Managua', 'Manaus', 'Marigot', 'Martinique', 'Matamoros', 'Mazatlan', 'Mendoza', 'Menominee', 'Merida', 'Metlakatla', 'Mexico_City', 'Miquelon', 'Moncton', 'Monterrey', 'Montevideo', 'Montreal', 'Montserrat', 'Nassau', 'New_York', 'Nipigon', 'Nome', 'Noronha', 'Nuuk', 'Ojinaga', 'Panama', 'Pangnirtung', 'Paramaribo', 'Phoenix', 'Port-au-Prince', 'Porto_Acre', 'Porto_Velho', 'Port_of_Spain', 'Puerto_Rico', 'Punta_Arenas', 'Rainy_River', 'Rankin_Inlet', 'Recife', 'Regina', 'Resolute', 'Rio_Branco', 'Rosario', 'Santarem', 'Santa_Isabel', 'Santiago', 'Santo_Domingo', 'Sao_Paulo', 'Scoresbysund', 'Shiprock', 'Sitka', 'St_Barthelemy', 'St_Johns', 'St_Kitts', 'St_Lucia', 'St_Thomas', 'St_Vincent', 'Swift_Current', 'Tegucigalpa', 'Thule', 'Thunder_Bay', 'Tijuana', 'Toronto', 'Tortola', 'Vancouver', 'Virgin', 'Whitehorse', 'Winnipeg', 'Yakutat', 'Yellowknife']\n",
      "['Buenos_Aires', 'Catamarca', 'ComodRivadavia', 'Cordoba', 'Jujuy', 'La_Rioja', 'Mendoza', 'Rio_Gallegos', 'Salta', 'San_Juan', 'San_Luis', 'Tucuman', 'Ushuaia']\n",
      "['Indianapolis', 'Knox', 'Marengo', 'Petersburg', 'Tell_City', 'Vevay', 'Vincennes', 'Winamac']\n",
      "['Louisville', 'Monticello']\n",
      "['Beulah', 'Center', 'New_Salem']\n",
      "['Casey', 'Davis', 'DumontDUrville', 'Macquarie', 'Mawson', 'McMurdo', 'Palmer', 'Rothera', 'South_Pole', 'Syowa', 'Troll', 'Vostok']\n",
      "['Longyearbyen']\n",
      "['Aden', 'Almaty', 'Amman', 'Anadyr', 'Aqtau', 'Aqtobe', 'Ashgabat', 'Ashkhabad', 'Atyrau', 'Baghdad', 'Bahrain', 'Baku', 'Bangkok', 'Barnaul', 'Beirut', 'Bishkek', 'Brunei', 'Calcutta', 'Chita', 'Choibalsan', 'Chongqing', 'Chungking', 'Colombo', 'Dacca', 'Damascus', 'Dhaka', 'Dili', 'Dubai', 'Dushanbe', 'Famagusta', 'Gaza', 'Harbin', 'Hebron', 'Hong_Kong', 'Hovd', 'Ho_Chi_Minh', 'Irkutsk', 'Istanbul', 'Jakarta', 'Jayapura', 'Jerusalem', 'Kabul', 'Kamchatka', 'Karachi', 'Kashgar', 'Kathmandu', 'Katmandu', 'Khandyga', 'Kolkata', 'Krasnoyarsk', 'Kuala_Lumpur', 'Kuching', 'Kuwait', 'Macao', 'Macau', 'Magadan', 'Makassar', 'Manila', 'Muscat', 'Nicosia', 'Novokuznetsk', 'Novosibirsk', 'Omsk', 'Oral', 'Phnom_Penh', 'Pontianak', 'Pyongyang', 'Qatar', 'Qostanay', 'Qyzylorda', 'Rangoon', 'Riyadh', 'Saigon', 'Sakhalin', 'Samarkand', 'Seoul', 'Shanghai', 'Singapore', 'Srednekolymsk', 'Taipei', 'Tashkent', 'Tbilisi', 'Tehran', 'Tel_Aviv', 'Thimbu', 'Thimphu', 'Tokyo', 'Tomsk', 'Ujung_Pandang', 'Ulaanbaatar', 'Ulan_Bator', 'Urumqi', 'Ust-Nera', 'Vientiane', 'Vladivostok', 'Yakutsk', 'Yangon', 'Yekaterinburg', 'Yerevan']\n",
      "['Azores', 'Bermuda', 'Canary', 'Cape_Verde', 'Faeroe', 'Faroe', 'Jan_Mayen', 'Madeira', 'Reykjavik', 'South_Georgia', 'Stanley', 'St_Helena']\n",
      "['ACT', 'Adelaide', 'Brisbane', 'Broken_Hill', 'Canberra', 'Currie', 'Darwin', 'Eucla', 'Hobart', 'LHI', 'Lindeman', 'Lord_Howe', 'Melbourne', 'North', 'NSW', 'Perth', 'Queensland', 'South', 'Sydney', 'Tasmania', 'Victoria', 'West', 'Yancowinna']\n",
      "['Acre', 'DeNoronha', 'East', 'West']\n",
      "['Atlantic', 'Central', 'Eastern', 'Mountain', 'Newfoundland', 'Pacific', 'Saskatchewan', 'Yukon']\n",
      "['Continental', 'EasterIsland']\n",
      "['GMT', 'GMT+0', 'GMT+1', 'GMT+10', 'GMT+11', 'GMT+12', 'GMT+2', 'GMT+3', 'GMT+4', 'GMT+5', 'GMT+6', 'GMT+7', 'GMT+8', 'GMT+9', 'GMT-0', 'GMT-1', 'GMT-10', 'GMT-11', 'GMT-12', 'GMT-13', 'GMT-14', 'GMT-2', 'GMT-3', 'GMT-4', 'GMT-5', 'GMT-6', 'GMT-7', 'GMT-8', 'GMT-9', 'GMT0', 'Greenwich', 'UCT', 'Universal', 'UTC', 'Zulu']\n",
      "['Amsterdam', 'Andorra', 'Astrakhan', 'Athens', 'Belfast', 'Belgrade', 'Berlin', 'Bratislava', 'Brussels', 'Bucharest', 'Budapest', 'Busingen', 'Chisinau', 'Copenhagen', 'Dublin', 'Gibraltar', 'Guernsey', 'Helsinki', 'Isle_of_Man', 'Istanbul', 'Jersey', 'Kaliningrad', 'Kiev', 'Kirov', 'Lisbon', 'Ljubljana', 'London', 'Luxembourg', 'Madrid', 'Malta', 'Mariehamn', 'Minsk', 'Monaco', 'Moscow', 'Nicosia', 'Oslo', 'Paris', 'Podgorica', 'Prague', 'Riga', 'Rome', 'Samara', 'San_Marino', 'Sarajevo', 'Saratov', 'Simferopol', 'Skopje', 'Sofia', 'Stockholm', 'Tallinn', 'Tirane', 'Tiraspol', 'Ulyanovsk', 'Uzhgorod', 'Vaduz', 'Vatican', 'Vienna', 'Vilnius', 'Volgograd', 'Warsaw', 'Zagreb', 'Zaporozhye', 'Zurich']\n",
      "['Antananarivo', 'Chagos', 'Christmas', 'Cocos', 'Comoro', 'Kerguelen', 'Mahe', 'Maldives', 'Mauritius', 'Mayotte', 'Reunion']\n",
      "['BajaNorte', 'BajaSur', 'General']\n",
      "['Apia', 'Auckland', 'Bougainville', 'Chatham', 'Chuuk', 'Easter', 'Efate', 'Enderbury', 'Fakaofo', 'Fiji', 'Funafuti', 'Galapagos', 'Gambier', 'Guadalcanal', 'Guam', 'Honolulu', 'Johnston', 'Kiritimati', 'Kosrae', 'Kwajalein', 'Majuro', 'Marquesas', 'Midway', 'Nauru', 'Niue', 'Norfolk', 'Noumea', 'Pago_Pago', 'Palau', 'Pitcairn', 'Pohnpei', 'Ponape', 'Port_Moresby', 'Rarotonga', 'Saipan', 'Samoa', 'Tahiti', 'Tarawa', 'Tongatapu', 'Truk', 'Wake', 'Wallis', 'Yap']\n",
      "['Alaska', 'Aleutian', 'Arizona', 'Central', 'East-Indiana', 'Eastern', 'Hawaii', 'Indiana-Starke', 'Michigan', 'Mountain', 'Pacific', 'Samoa']\n",
      "[]\n",
      "['shell.pyd']\n",
      "['Python para exe 02.cpython-38.pyc']\n",
      "['Python para exe 03.ipynb', 'SMSmenor.py', 'SMSmenor.spec']\n",
      "['Python para exe 03-checkpoint.ipynb']\n",
      "[]\n",
      "['Analysis-00.toc', 'base_library.zip', 'COLLECT-00.toc', 'EXE-00.toc', 'PKG-00.pkg', 'PKG-00.toc', 'PYZ-00.pyz', 'PYZ-00.toc', 'SMSmenor.exe', 'SMSmenor.exe.manifest', 'Tree-00.toc', 'Tree-01.toc', 'Tree-02.toc', 'warn-SMSmenor.txt', 'xref-SMSmenor.html']\n",
      "[]\n",
      "['api-ms-win-core-console-l1-1-0.dll', 'api-ms-win-core-datetime-l1-1-0.dll', 'api-ms-win-core-debug-l1-1-0.dll', 'api-ms-win-core-errorhandling-l1-1-0.dll', 'api-ms-win-core-file-l1-1-0.dll', 'api-ms-win-core-file-l1-2-0.dll', 'api-ms-win-core-file-l2-1-0.dll', 'api-ms-win-core-handle-l1-1-0.dll', 'api-ms-win-core-heap-l1-1-0.dll', 'api-ms-win-core-interlocked-l1-1-0.dll', 'api-ms-win-core-libraryloader-l1-1-0.dll', 'api-ms-win-core-localization-l1-2-0.dll', 'api-ms-win-core-memory-l1-1-0.dll', 'api-ms-win-core-namedpipe-l1-1-0.dll', 'api-ms-win-core-processenvironment-l1-1-0.dll', 'api-ms-win-core-processthreads-l1-1-0.dll', 'api-ms-win-core-processthreads-l1-1-1.dll', 'api-ms-win-core-profile-l1-1-0.dll', 'api-ms-win-core-rtlsupport-l1-1-0.dll', 'api-ms-win-core-string-l1-1-0.dll', 'api-ms-win-core-synch-l1-1-0.dll', 'api-ms-win-core-synch-l1-2-0.dll', 'api-ms-win-core-sysinfo-l1-1-0.dll', 'api-ms-win-core-timezone-l1-1-0.dll', 'api-ms-win-core-util-l1-1-0.dll', 'api-ms-win-crt-conio-l1-1-0.dll', 'api-ms-win-crt-convert-l1-1-0.dll', 'api-ms-win-crt-environment-l1-1-0.dll', 'api-ms-win-crt-filesystem-l1-1-0.dll', 'api-ms-win-crt-heap-l1-1-0.dll', 'api-ms-win-crt-locale-l1-1-0.dll', 'api-ms-win-crt-math-l1-1-0.dll', 'api-ms-win-crt-process-l1-1-0.dll', 'api-ms-win-crt-runtime-l1-1-0.dll', 'api-ms-win-crt-stdio-l1-1-0.dll', 'api-ms-win-crt-string-l1-1-0.dll', 'api-ms-win-crt-time-l1-1-0.dll', 'api-ms-win-crt-utility-l1-1-0.dll', 'base_library.zip', 'libcrypto-1_1-x64.dll', 'libffi-7.dll', 'libssl-1_1-x64.dll', 'pyexpat.pyd', 'python38.dll', 'select.pyd', 'SMSmenor.exe', 'SMSmenor.exe.manifest', 'ucrtbase.dll', 'unicodedata.pyd', 'VCRUNTIME140.dll', '_asyncio.pyd', '_bz2.pyd', '_ctypes.pyd', '_decimal.pyd', '_hashlib.pyd', '_lzma.pyd', '_multiprocessing.pyd', '_overlapped.pyd', '_queue.pyd', '_socket.pyd', '_ssl.pyd']\n",
      "['cacert.pem']\n",
      "['pyconfig.h']\n",
      "[]\n",
      "['CET', 'CST6CDT', 'Cuba', 'EET', 'Egypt', 'Eire', 'EST', 'EST5EDT', 'Factory', 'GB', 'GB-Eire', 'GMT', 'GMT+0', 'GMT-0', 'GMT0', 'Greenwich', 'Hongkong', 'HST', 'Iceland', 'Iran', 'iso3166.tab', 'Israel', 'Jamaica', 'Japan', 'Kwajalein', 'leapseconds', 'Libya', 'MET', 'MST', 'MST7MDT', 'Navajo', 'NZ', 'NZ-CHAT', 'Poland', 'Portugal', 'PRC', 'PST8PDT', 'ROC', 'ROK', 'Singapore', 'Turkey', 'tzdata.zi', 'UCT', 'Universal', 'UTC', 'W-SU', 'WET', 'zone.tab', 'zone1970.tab', 'Zulu']\n",
      "['Abidjan', 'Accra', 'Addis_Ababa', 'Algiers', 'Asmara', 'Asmera', 'Bamako', 'Bangui', 'Banjul', 'Bissau', 'Blantyre', 'Brazzaville', 'Bujumbura', 'Cairo', 'Casablanca', 'Ceuta', 'Conakry', 'Dakar', 'Dar_es_Salaam', 'Djibouti', 'Douala', 'El_Aaiun', 'Freetown', 'Gaborone', 'Harare', 'Johannesburg', 'Juba', 'Kampala', 'Khartoum', 'Kigali', 'Kinshasa', 'Lagos', 'Libreville', 'Lome', 'Luanda', 'Lubumbashi', 'Lusaka', 'Malabo', 'Maputo', 'Maseru', 'Mbabane', 'Mogadishu', 'Monrovia', 'Nairobi', 'Ndjamena', 'Niamey', 'Nouakchott', 'Ouagadougou', 'Porto-Novo', 'Sao_Tome', 'Timbuktu', 'Tripoli', 'Tunis', 'Windhoek']\n",
      "['Adak', 'Anchorage', 'Anguilla', 'Antigua', 'Araguaina', 'Aruba', 'Asuncion', 'Atikokan', 'Atka', 'Bahia', 'Bahia_Banderas', 'Barbados', 'Belem', 'Belize', 'Blanc-Sablon', 'Boa_Vista', 'Bogota', 'Boise', 'Buenos_Aires', 'Cambridge_Bay', 'Campo_Grande', 'Cancun', 'Caracas', 'Catamarca', 'Cayenne', 'Cayman', 'Chicago', 'Chihuahua', 'Coral_Harbour', 'Cordoba', 'Costa_Rica', 'Creston', 'Cuiaba', 'Curacao', 'Danmarkshavn', 'Dawson', 'Dawson_Creek', 'Denver', 'Detroit', 'Dominica', 'Edmonton', 'Eirunepe', 'El_Salvador', 'Ensenada', 'Fortaleza', 'Fort_Nelson', 'Fort_Wayne', 'Glace_Bay', 'Godthab', 'Goose_Bay', 'Grand_Turk', 'Grenada', 'Guadeloupe', 'Guatemala', 'Guayaquil', 'Guyana', 'Halifax', 'Havana', 'Hermosillo', 'Indianapolis', 'Inuvik', 'Iqaluit', 'Jamaica', 'Jujuy', 'Juneau', 'Knox_IN', 'Kralendijk', 'La_Paz', 'Lima', 'Los_Angeles', 'Louisville', 'Lower_Princes', 'Maceio', 'Managua', 'Manaus', 'Marigot', 'Martinique', 'Matamoros', 'Mazatlan', 'Mendoza', 'Menominee', 'Merida', 'Metlakatla', 'Mexico_City', 'Miquelon', 'Moncton', 'Monterrey', 'Montevideo', 'Montreal', 'Montserrat', 'Nassau', 'New_York', 'Nipigon', 'Nome', 'Noronha', 'Nuuk', 'Ojinaga', 'Panama', 'Pangnirtung', 'Paramaribo', 'Phoenix', 'Port-au-Prince', 'Porto_Acre', 'Porto_Velho', 'Port_of_Spain', 'Puerto_Rico', 'Punta_Arenas', 'Rainy_River', 'Rankin_Inlet', 'Recife', 'Regina', 'Resolute', 'Rio_Branco', 'Rosario', 'Santarem', 'Santa_Isabel', 'Santiago', 'Santo_Domingo', 'Sao_Paulo', 'Scoresbysund', 'Shiprock', 'Sitka', 'St_Barthelemy', 'St_Johns', 'St_Kitts', 'St_Lucia', 'St_Thomas', 'St_Vincent', 'Swift_Current', 'Tegucigalpa', 'Thule', 'Thunder_Bay', 'Tijuana', 'Toronto', 'Tortola', 'Vancouver', 'Virgin', 'Whitehorse', 'Winnipeg', 'Yakutat', 'Yellowknife']\n",
      "['Buenos_Aires', 'Catamarca', 'ComodRivadavia', 'Cordoba', 'Jujuy', 'La_Rioja', 'Mendoza', 'Rio_Gallegos', 'Salta', 'San_Juan', 'San_Luis', 'Tucuman', 'Ushuaia']\n",
      "['Indianapolis', 'Knox', 'Marengo', 'Petersburg', 'Tell_City', 'Vevay', 'Vincennes', 'Winamac']\n",
      "['Louisville', 'Monticello']\n",
      "['Beulah', 'Center', 'New_Salem']\n",
      "['Casey', 'Davis', 'DumontDUrville', 'Macquarie', 'Mawson', 'McMurdo', 'Palmer', 'Rothera', 'South_Pole', 'Syowa', 'Troll', 'Vostok']\n",
      "['Longyearbyen']\n",
      "['Aden', 'Almaty', 'Amman', 'Anadyr', 'Aqtau', 'Aqtobe', 'Ashgabat', 'Ashkhabad', 'Atyrau', 'Baghdad', 'Bahrain', 'Baku', 'Bangkok', 'Barnaul', 'Beirut', 'Bishkek', 'Brunei', 'Calcutta', 'Chita', 'Choibalsan', 'Chongqing', 'Chungking', 'Colombo', 'Dacca', 'Damascus', 'Dhaka', 'Dili', 'Dubai', 'Dushanbe', 'Famagusta', 'Gaza', 'Harbin', 'Hebron', 'Hong_Kong', 'Hovd', 'Ho_Chi_Minh', 'Irkutsk', 'Istanbul', 'Jakarta', 'Jayapura', 'Jerusalem', 'Kabul', 'Kamchatka', 'Karachi', 'Kashgar', 'Kathmandu', 'Katmandu', 'Khandyga', 'Kolkata', 'Krasnoyarsk', 'Kuala_Lumpur', 'Kuching', 'Kuwait', 'Macao', 'Macau', 'Magadan', 'Makassar', 'Manila', 'Muscat', 'Nicosia', 'Novokuznetsk', 'Novosibirsk', 'Omsk', 'Oral', 'Phnom_Penh', 'Pontianak', 'Pyongyang', 'Qatar', 'Qostanay', 'Qyzylorda', 'Rangoon', 'Riyadh', 'Saigon', 'Sakhalin', 'Samarkand', 'Seoul', 'Shanghai', 'Singapore', 'Srednekolymsk', 'Taipei', 'Tashkent', 'Tbilisi', 'Tehran', 'Tel_Aviv', 'Thimbu', 'Thimphu', 'Tokyo', 'Tomsk', 'Ujung_Pandang', 'Ulaanbaatar', 'Ulan_Bator', 'Urumqi', 'Ust-Nera', 'Vientiane', 'Vladivostok', 'Yakutsk', 'Yangon', 'Yekaterinburg', 'Yerevan']\n",
      "['Azores', 'Bermuda', 'Canary', 'Cape_Verde', 'Faeroe', 'Faroe', 'Jan_Mayen', 'Madeira', 'Reykjavik', 'South_Georgia', 'Stanley', 'St_Helena']\n",
      "['ACT', 'Adelaide', 'Brisbane', 'Broken_Hill', 'Canberra', 'Currie', 'Darwin', 'Eucla', 'Hobart', 'LHI', 'Lindeman', 'Lord_Howe', 'Melbourne', 'North', 'NSW', 'Perth', 'Queensland', 'South', 'Sydney', 'Tasmania', 'Victoria', 'West', 'Yancowinna']\n",
      "['Acre', 'DeNoronha', 'East', 'West']\n",
      "['Atlantic', 'Central', 'Eastern', 'Mountain', 'Newfoundland', 'Pacific', 'Saskatchewan', 'Yukon']\n",
      "['Continental', 'EasterIsland']\n",
      "['GMT', 'GMT+0', 'GMT+1', 'GMT+10', 'GMT+11', 'GMT+12', 'GMT+2', 'GMT+3', 'GMT+4', 'GMT+5', 'GMT+6', 'GMT+7', 'GMT+8', 'GMT+9', 'GMT-0', 'GMT-1', 'GMT-10', 'GMT-11', 'GMT-12', 'GMT-13', 'GMT-14', 'GMT-2', 'GMT-3', 'GMT-4', 'GMT-5', 'GMT-6', 'GMT-7', 'GMT-8', 'GMT-9', 'GMT0', 'Greenwich', 'UCT', 'Universal', 'UTC', 'Zulu']\n",
      "['Amsterdam', 'Andorra', 'Astrakhan', 'Athens', 'Belfast', 'Belgrade', 'Berlin', 'Bratislava', 'Brussels', 'Bucharest', 'Budapest', 'Busingen', 'Chisinau', 'Copenhagen', 'Dublin', 'Gibraltar', 'Guernsey', 'Helsinki', 'Isle_of_Man', 'Istanbul', 'Jersey', 'Kaliningrad', 'Kiev', 'Kirov', 'Lisbon', 'Ljubljana', 'London', 'Luxembourg', 'Madrid', 'Malta', 'Mariehamn', 'Minsk', 'Monaco', 'Moscow', 'Nicosia', 'Oslo', 'Paris', 'Podgorica', 'Prague', 'Riga', 'Rome', 'Samara', 'San_Marino', 'Sarajevo', 'Saratov', 'Simferopol', 'Skopje', 'Sofia', 'Stockholm', 'Tallinn', 'Tirane', 'Tiraspol', 'Ulyanovsk', 'Uzhgorod', 'Vaduz', 'Vatican', 'Vienna', 'Vilnius', 'Volgograd', 'Warsaw', 'Zagreb', 'Zaporozhye', 'Zurich']\n",
      "['Antananarivo', 'Chagos', 'Christmas', 'Cocos', 'Comoro', 'Kerguelen', 'Mahe', 'Maldives', 'Mauritius', 'Mayotte', 'Reunion']\n",
      "['BajaNorte', 'BajaSur', 'General']\n",
      "['Apia', 'Auckland', 'Bougainville', 'Chatham', 'Chuuk', 'Easter', 'Efate', 'Enderbury', 'Fakaofo', 'Fiji', 'Funafuti', 'Galapagos', 'Gambier', 'Guadalcanal', 'Guam', 'Honolulu', 'Johnston', 'Kiritimati', 'Kosrae', 'Kwajalein', 'Majuro', 'Marquesas', 'Midway', 'Nauru', 'Niue', 'Norfolk', 'Noumea', 'Pago_Pago', 'Palau', 'Pitcairn', 'Pohnpei', 'Ponape', 'Port_Moresby', 'Rarotonga', 'Saipan', 'Samoa', 'Tahiti', 'Tarawa', 'Tongatapu', 'Truk', 'Wake', 'Wallis', 'Yap']\n",
      "['Alaska', 'Aleutian', 'Arizona', 'Central', 'East-Indiana', 'Eastern', 'Hawaii', 'Indiana-Starke', 'Michigan', 'Mountain', 'Pacific', 'Samoa']\n",
      "['SMSmenor.cpython-38.pyc']\n",
      "[]\n",
      "['Agencia.py', 'ContasBancos.py', 'Gabarito - OrientacaoObjeto01.py', 'main.py']\n",
      "['.gitignore', 'misc.xml', 'modules.xml', 'Orientação a objeto.iml', 'workspace.xml']\n",
      "['profiles_settings.xml']\n",
      "['Gabarito - Python e ArcGIS 02.ipynb', 'Gabarito - Python e ArcGIS 03.ipynb', 'Python e ArcGIS 01.ipynb']\n",
      "['Gabarito - Python e ArcGIS 02-checkpoint.ipynb', 'Gabarito - Python e ArcGIS 03-checkpoint.ipynb', 'Python e ArcGIS 01-checkpoint.ipynb']\n",
      "['aclocal.m4', 'config.guess', 'config.sub', 'configure', 'configure.ac', 'install-sh', 'LICENSE', 'Makefile.pre.in', 'pyconfig.h.in', 'README.rst', 'setup.py']\n",
      "['about.rst', 'bugs.rst', 'conf.py', 'contents.rst', 'copyright.rst', 'docutils.conf', 'glossary.rst', 'license.rst', 'make.bat', 'Makefile', 'README.rst']\n",
      "['abstract.rst', 'allocation.rst', 'apiabiversion.rst', 'arg.rst', 'bool.rst', 'buffer.rst', 'bytearray.rst', 'bytes.rst', 'capsule.rst', 'cell.rst', 'code.rst', 'codec.rst', 'complex.rst', 'concrete.rst', 'conversion.rst', 'coro.rst', 'datetime.rst', 'descriptor.rst', 'dict.rst', 'exceptions.rst', 'file.rst', 'float.rst', 'function.rst', 'gcsupport.rst', 'gen.rst', 'import.rst', 'index.rst', 'init.rst', 'intro.rst', 'iter.rst', 'iterator.rst', 'list.rst', 'long.rst', 'mapping.rst', 'marshal.rst', 'memory.rst', 'memoryview.rst', 'method.rst', 'module.rst', 'none.rst', 'number.rst', 'objbuffer.rst', 'object.rst', 'objimpl.rst', 'refcounting.rst', 'reflection.rst', 'sequence.rst', 'set.rst', 'slice.rst', 'stable.rst', 'structures.rst', 'sys.rst', 'tuple.rst', 'type.rst', 'typeobj.rst', 'unicode.rst', 'utilities.rst', 'veryhigh.rst', 'weakref.rst']\n",
      "['refcounts.dat']\n",
      "['index.rst']\n",
      "['apiref.rst', 'builtdist.rst', 'commandref.rst', 'configfile.rst', 'examples.rst', 'extending.rst', 'index.rst', 'introduction.rst', 'packageindex.rst', 'setupscript.rst', 'sourcedist.rst', 'uploading.rst']\n",
      "['building.rst', 'embedding.rst', 'extending.rst', 'index.rst', 'newtypes.rst', 'newtypes_tutorial.rst', 'windows.rst']\n",
      "['design.rst', 'extending.rst', 'general.rst', 'gui.rst', 'index.rst', 'installed.rst', 'library.rst', 'programming.rst', 'python-video-icon.png', 'windows.rst']\n",
      "['argparse.rst', 'clinic.rst', 'cporting.rst', 'curses.rst', 'descriptor.rst', 'functional.rst', 'index.rst', 'instrumentation.rst', 'ipaddress.rst', 'logging-cookbook.rst', 'logging.rst', 'logging_flow.png', 'pyporting.rst', 'regex.rst', 'sockets.rst', 'sorting.rst', 'unicode.rst', 'urllib2.rst']\n",
      "['capsulethunk.h', 'custom.c', 'custom2.c', 'custom3.c', 'custom4.c', 'dbpickle.py', 'email-alternative.py', 'email-dir.py', 'email-headers.py', 'email-mime.py', 'email-read-alternative.py', 'email-simple.py', 'email-unpack.py', 'minidom-example.py', 'mp_newtype.py', 'mp_pool.py', 'mp_workers.py', 'run-func.c', 'setup.py', 'sublist.c', 'test.py', 'turtle-star.py', 'typestruct.h', 'tzinfo-examples.py']\n",
      "['adapter_datetime.py', 'adapter_point_1.py', 'adapter_point_2.py', 'collation_reverse.py', 'complete_statement.py', 'connect_db_1.py', 'connect_db_2.py', 'converter_point.py', 'countcursors.py', 'createdb.py', 'ctx_manager.py', 'execsql_fetchonerow.py', 'execsql_printall_1.py', 'executemany_1.py', 'executemany_2.py', 'executescript.py', 'execute_1.py', 'execute_3.py', 'insert_more_people.py', 'load_extension.py', 'md5func.py', 'mysumaggr.py', 'parse_colnames.py', 'pysqlite_datetime.py', 'rowclass.py', 'row_factory.py', 'shared_cache.py', 'shortcut_methods.py', 'simple_tableprinter.py', 'text_factory.py']\n",
      "['index.rst']\n",
      "['index.rst']\n",
      "['2to3.rst', 'abc.rst', 'aifc.rst', 'allos.rst', 'archiving.rst', 'argparse.rst', 'array.rst', 'ast.rst', 'asynchat.rst', 'asyncio-dev.rst', 'asyncio-eventloop.rst', 'asyncio-eventloops.rst', 'asyncio-protocol.rst', 'asyncio-queue.rst', 'asyncio-stream.rst', 'asyncio-subprocess.rst', 'asyncio-sync.rst', 'asyncio-task.rst', 'asyncio.rst', 'asyncore.rst', 'atexit.rst', 'audioop.rst', 'base64.rst', 'bdb.rst', 'binary.rst', 'binascii.rst', 'binhex.rst', 'bisect.rst', 'builtins.rst', 'bz2.rst', 'calendar.rst', 'cgi.rst', 'cgitb.rst', 'chunk.rst', 'cmath.rst', 'cmd.rst', 'code.rst', 'codecs.rst', 'codeop.rst', 'collections.abc.rst', 'collections.rst', 'colorsys.rst', 'compileall.rst', 'concurrency.rst', 'concurrent.futures.rst', 'concurrent.rst', 'configparser.rst', 'constants.rst', 'contextlib.rst', 'copy.rst', 'copyreg.rst', 'crypt.rst', 'crypto.rst', 'csv.rst', 'ctypes.rst', 'curses.ascii.rst', 'curses.panel.rst', 'curses.rst', 'custominterp.rst', 'datatypes.rst', 'datetime.rst', 'dbm.rst', 'debug.rst', 'decimal.rst', 'development.rst', 'difflib.rst', 'dis.rst', 'distribution.rst', 'distutils.rst', 'doctest.rst', 'dummy_threading.rst', 'email.charset.rst', 'email.compat32-message.rst', 'email.contentmanager.rst', 'email.encoders.rst', 'email.errors.rst', 'email.examples.rst', 'email.generator.rst', 'email.header.rst', 'email.headerregistry.rst', 'email.iterators.rst', 'email.message.rst', 'email.mime.rst', 'email.parser.rst', 'email.policy.rst', 'email.rst', 'email.utils.rst', 'ensurepip.rst', 'enum.rst', 'errno.rst', 'exceptions.rst', 'faulthandler.rst', 'fcntl.rst', 'filecmp.rst', 'fileformats.rst', 'fileinput.rst', 'filesys.rst', 'fnmatch.rst', 'formatter.rst', 'fpectl.rst', 'fractions.rst', 'frameworks.rst', 'ftplib.rst', 'functional.rst', 'functions.rst', 'functools.rst', 'gc.rst', 'getopt.rst', 'getpass.rst', 'gettext.rst', 'glob.rst', 'grp.rst', 'gzip.rst', 'hashlib-blake2-tree.png', 'hashlib.rst', 'heapq.rst', 'hmac.rst', 'html.entities.rst', 'html.parser.rst', 'html.rst', 'http.client.rst', 'http.cookiejar.rst', 'http.cookies.rst', 'http.rst', 'http.server.rst', 'i18n.rst', 'idle.rst', 'imaplib.rst', 'imghdr.rst', 'imp.rst', 'importlib.rst', 'index.rst', 'inspect.rst', 'internet.rst', 'intro.rst', 'io.rst', 'ipaddress.rst', 'ipc.rst', 'itertools.rst', 'json.rst', 'keyword.rst', 'language.rst', 'linecache.rst', 'locale.rst', 'logging.config.rst', 'logging.handlers.rst', 'logging.rst', 'lzma.rst', 'macpath.rst', 'mailbox.rst', 'mailcap.rst', 'markup.rst', 'marshal.rst', 'math.rst', 'mimetypes.rst', 'misc.rst', 'mm.rst', 'mmap.rst', 'modulefinder.rst', 'modules.rst', 'msilib.rst', 'msvcrt.rst', 'multiprocessing.rst', 'netdata.rst', 'netrc.rst', 'nis.rst', 'nntplib.rst', 'numbers.rst', 'numeric.rst', 'operator.rst', 'optparse.rst', 'os.path.rst', 'os.rst', 'ossaudiodev.rst', 'othergui.rst', 'parser.rst', 'pathlib-inheritance.png', 'pathlib-inheritance.svg', 'pathlib.rst', 'pdb.rst', 'persistence.rst', 'pickle.rst', 'pickletools.rst', 'pipes.rst', 'pkgutil.rst', 'platform.rst', 'plistlib.rst', 'poplib.rst', 'posix.rst', 'pprint.rst', 'profile.rst', 'pty.rst', 'pwd.rst', 'pyclbr.rst', 'pydoc.rst', 'pyexpat.rst', 'python.rst', 'py_compile.rst', 'queue.rst', 'quopri.rst', 'random.rst', 're.rst', 'readline.rst', 'reprlib.rst', 'resource.rst', 'rlcompleter.rst', 'runpy.rst', 'sched.rst', 'secrets.rst', 'select.rst', 'selectors.rst', 'shelve.rst', 'shlex.rst', 'shutil.rst', 'signal.rst', 'site.rst', 'smtpd.rst', 'smtplib.rst', 'sndhdr.rst', 'socket.rst', 'socketserver.rst', 'spwd.rst', 'sqlite3.rst', 'ssl.rst', 'stat.rst', 'statistics.rst', 'stdtypes.rst', 'string.rst', 'stringprep.rst', 'struct.rst', 'subprocess.rst', 'sunau.rst', 'superseded.rst', 'symbol.rst', 'symtable.rst', 'sys.rst', 'sysconfig.rst', 'syslog.rst', 'tabnanny.rst', 'tarfile.rst', 'telnetlib.rst', 'tempfile.rst', 'termios.rst', 'test.rst', 'text.rst', 'textwrap.rst', 'threading.rst', 'time.rst', 'timeit.rst', 'tk.rst', 'tkinter.rst', 'tkinter.scrolledtext.rst', 'tkinter.tix.rst', 'tkinter.ttk.rst', 'token.rst', 'tokenize.rst', 'trace.rst', 'traceback.rst', 'tracemalloc.rst', 'tty.rst', 'tulip_coro.dia', 'tulip_coro.png', 'turtle-star.pdf', 'turtle-star.png', 'turtle-star.ps', 'turtle.rst', 'types.rst', 'typing.rst', 'undoc.rst', 'unicodedata.rst', 'unittest.mock-examples.rst', 'unittest.mock.rst', 'unittest.rst', 'unix.rst', 'urllib.error.rst', 'urllib.parse.rst', 'urllib.request.rst', 'urllib.robotparser.rst', 'urllib.rst', 'uu.rst', 'uuid.rst', 'venv.rst', 'warnings.rst', 'wave.rst', 'weakref.rst', 'webbrowser.rst', 'windows.rst', 'winreg.rst', 'winsound.rst', 'wsgiref.rst', 'xdrlib.rst', 'xml.dom.minidom.rst', 'xml.dom.pulldom.rst', 'xml.dom.rst', 'xml.etree.elementtree.rst', 'xml.rst', 'xml.sax.handler.rst', 'xml.sax.reader.rst', 'xml.sax.rst', 'xml.sax.utils.rst', 'xmlrpc.client.rst', 'xmlrpc.rst', 'xmlrpc.server.rst', 'zipapp.rst', 'zipfile.rst', 'zipimport.rst', 'zlib.rst', '_dummy_thread.rst', '_thread.rst', '__future__.rst', '__main__.rst']\n",
      "['compound_stmts.rst', 'datamodel.rst', 'executionmodel.rst', 'expressions.rst', 'grammar.rst', 'import.rst', 'index.rst', 'introduction.rst', 'lexical_analysis.rst', 'simple_stmts.rst', 'toplevel_components.rst']\n",
      "['rstlint.py', 'susp-ignored.csv']\n",
      "['c_annotations.py', 'escape4chm.py', 'patchlevel.py', 'pyspecific.py', 'suspicious.py']\n",
      "['theme.conf']\n",
      "['pydoctheme.css']\n",
      "['copybutton.js', 'py.png', 'sidebar.js', 'switchers.js']\n",
      "['customsourcelink.html', 'download.html', 'dummy.html', 'indexcontent.html', 'indexsidebar.html', 'layout.html', 'opensearch.xml']\n",
      "['appendix.rst', 'appetite.rst', 'classes.rst', 'controlflow.rst', 'datastructures.rst', 'errors.rst', 'floatingpoint.rst', 'index.rst', 'inputoutput.rst', 'interactive.rst', 'interpreter.rst', 'introduction.rst', 'modules.rst', 'stdlib.rst', 'stdlib2.rst', 'venv.rst', 'whatnow.rst']\n",
      "['cmdline.rst', 'index.rst', 'mac.rst', 'unix.rst', 'venv-create.inc', 'windows.rst', 'win_installer.png']\n",
      "['2.0.rst', '2.1.rst', '2.2.rst', '2.3.rst', '2.4.rst', '2.5.rst', '2.6.rst', '2.7.rst', '3.0.rst', '3.1.rst', '3.2.rst', '3.3.rst', '3.4.rst', '3.5.rst', '3.6.rst', 'changelog.rst', 'index.rst']\n",
      "['Grammar']\n",
      "['abstract.h', 'accu.h', 'asdl.h', 'ast.h', 'bitset.h', 'bltinmodule.h', 'boolobject.h', 'bytearrayobject.h', 'bytesobject.h', 'bytes_methods.h', 'cellobject.h', 'ceval.h', 'classobject.h', 'code.h', 'codecs.h', 'compile.h', 'complexobject.h', 'datetime.h', 'descrobject.h', 'dictobject.h', 'dtoa.h', 'dynamic_annotations.h', 'enumobject.h', 'errcode.h', 'eval.h', 'fileobject.h', 'fileutils.h', 'floatobject.h', 'frameobject.h', 'funcobject.h', 'genobject.h', 'graminit.h', 'grammar.h', 'import.h', 'intrcheck.h', 'iterobject.h', 'listobject.h', 'longintrepr.h', 'longobject.h', 'marshal.h', 'memoryobject.h', 'metagrammar.h', 'methodobject.h', 'modsupport.h', 'moduleobject.h', 'namespaceobject.h', 'node.h', 'object.h', 'objimpl.h', 'odictobject.h', 'opcode.h', 'osdefs.h', 'osmodule.h', 'parsetok.h', 'patchlevel.h', 'pgen.h', 'pgenheaders.h', 'pyarena.h', 'pyatomic.h', 'pycapsule.h', 'pyctype.h', 'pydebug.h', 'pydtrace.d', 'pydtrace.h', 'pyerrors.h', 'pyexpat.h', 'pyfpe.h', 'pygetopt.h', 'pyhash.h', 'pylifecycle.h', 'pymacconfig.h', 'pymacro.h', 'pymath.h', 'pymem.h', 'pyport.h', 'pystate.h', 'pystrcmp.h', 'pystrhex.h', 'pystrtod.h', 'Python-ast.h', 'Python.h', 'pythonrun.h', 'pythread.h', 'pytime.h', 'py_curses.h', 'rangeobject.h', 'setobject.h', 'sliceobject.h', 'structmember.h', 'structseq.h', 'symtable.h', 'sysmodule.h', 'token.h', 'traceback.h', 'tupleobject.h', 'typeslots.h', 'ucnhash.h', 'unicodeobject.h', 'warnings.h', 'weakrefobject.h']\n",
      "['abc.py', 'aifc.py', 'antigravity.py', 'argparse.py', 'ast.py', 'asynchat.py', 'asyncore.py', 'base64.py', 'bdb.py', 'binhex.py', 'bisect.py', 'bz2.py', 'calendar.py', 'cgi.py', 'cgitb.py', 'chunk.py', 'cmd.py', 'code.py', 'codecs.py', 'codeop.py', 'colorsys.py', 'compileall.py', 'configparser.py', 'contextlib.py', 'copy.py', 'copyreg.py', 'cProfile.py', 'crypt.py', 'csv.py', 'datetime.py', 'decimal.py', 'difflib.py', 'dis.py', 'doctest.py', 'dummy_threading.py', 'enum.py', 'filecmp.py', 'fileinput.py', 'fnmatch.py', 'formatter.py', 'fractions.py', 'ftplib.py', 'functools.py', 'genericpath.py', 'getopt.py', 'getpass.py', 'gettext.py', 'glob.py', 'gzip.py', 'hashlib.py', 'heapq.py', 'hmac.py', 'imaplib.py', 'imghdr.py', 'imp.py', 'inspect.py', 'io.py', 'ipaddress.py', 'keyword.py', 'linecache.py', 'locale.py', 'lzma.py', 'macpath.py', 'macurl2path.py', 'mailbox.py', 'mailcap.py', 'mimetypes.py', 'modulefinder.py', 'netrc.py', 'nntplib.py', 'ntpath.py', 'nturl2path.py', 'numbers.py', 'opcode.py', 'operator.py', 'optparse.py', 'os.py', 'pathlib.py', 'pdb.py', 'pickle.py', 'pickletools.py', 'pipes.py', 'pkgutil.py', 'platform.py', 'plistlib.py', 'poplib.py', 'posixpath.py', 'pprint.py', 'profile.py', 'pstats.py', 'pty.py', 'pyclbr.py', 'pydoc.py', 'py_compile.py', 'queue.py', 'quopri.py', 'random.py', 're.py', 'reprlib.py', 'rlcompleter.py', 'runpy.py', 'sched.py', 'secrets.py', 'selectors.py', 'shelve.py', 'shlex.py', 'shutil.py', 'signal.py', 'site.py', 'smtpd.py', 'smtplib.py', 'sndhdr.py', 'socket.py', 'socketserver.py', 'sre_compile.py', 'sre_constants.py', 'sre_parse.py', 'ssl.py', 'stat.py', 'statistics.py', 'string.py', 'stringprep.py', 'struct.py', 'subprocess.py', 'sunau.py', 'symbol.py', 'symtable.py', 'sysconfig.py', 'tabnanny.py', 'tarfile.py', 'telnetlib.py', 'tempfile.py', 'textwrap.py', 'this.py', 'threading.py', 'timeit.py', 'token.py', 'tokenize.py', 'trace.py', 'traceback.py', 'tracemalloc.py', 'tty.py', 'turtle.py', 'types.py', 'typing.py', 'uu.py', 'uuid.py', 'warnings.py', 'wave.py', 'weakref.py', 'webbrowser.py', 'xdrlib.py', 'zipapp.py', 'zipfile.py', '_bootlocale.py', '_collections_abc.py', '_compat_pickle.py', '_compression.py', '_dummy_thread.py', '_markupbase.py', '_osx_support.py', '_pydecimal.py', '_pyio.py', '_sitebuiltins.py', '_strptime.py', '_threading_local.py', '_weakrefset.py', '__future__.py', '__phello__.foo.py']\n",
      "['base_events.py', 'base_futures.py', 'base_subprocess.py', 'base_tasks.py', 'compat.py', 'constants.py', 'coroutines.py', 'events.py', 'futures.py', 'locks.py', 'log.py', 'proactor_events.py', 'protocols.py', 'queues.py', 'selector_events.py', 'sslproto.py', 'streams.py', 'subprocess.py', 'tasks.py', 'test_utils.py', 'transports.py', 'unix_events.py', 'windows_events.py', 'windows_utils.py', '__init__.py']\n",
      "['abc.py', '__init__.py']\n",
      "['__init__.py']\n",
      "['process.py', 'thread.py', '_base.py', '__init__.py']\n",
      "['util.py', 'wintypes.py', '_endian.py', '__init__.py']\n",
      "['dyld.py', 'dylib.py', 'fetch_macholib', 'fetch_macholib.bat', 'framework.py', 'README.ctypes', '__init__.py']\n",
      "['test_anon.py', 'test_arrays.py', 'test_array_in_pointer.py', 'test_as_parameter.py', 'test_bitfields.py', 'test_buffers.py', 'test_bytes.py', 'test_byteswap.py', 'test_callbacks.py', 'test_cast.py', 'test_cfuncs.py', 'test_checkretval.py', 'test_delattr.py', 'test_errno.py', 'test_find.py', 'test_frombuffer.py', 'test_funcptr.py', 'test_functions.py', 'test_incomplete.py', 'test_init.py', 'test_internals.py', 'test_keeprefs.py', 'test_libc.py', 'test_loading.py', 'test_macholib.py', 'test_memfunctions.py', 'test_numbers.py', 'test_objects.py', 'test_parameters.py', 'test_pep3118.py', 'test_pickling.py', 'test_pointers.py', 'test_prototypes.py', 'test_python_api.py', 'test_random_things.py', 'test_refcounts.py', 'test_repr.py', 'test_returnfuncptrs.py', 'test_simplesubclasses.py', 'test_sizes.py', 'test_slicing.py', 'test_stringptr.py', 'test_strings.py', 'test_structures.py', 'test_struct_fields.py', 'test_unaligned_structures.py', 'test_unicode.py', 'test_values.py', 'test_varsize_struct.py', 'test_win32.py', 'test_wintypes.py', '__init__.py', '__main__.py']\n",
      "['ascii.py', 'has_key.py', 'panel.py', 'textpad.py', '__init__.py']\n",
      "['dumb.py', 'gnu.py', 'ndbm.py', '__init__.py']\n",
      "['archive_util.py', 'bcppcompiler.py', 'ccompiler.py', 'cmd.py', 'config.py', 'core.py', 'cygwinccompiler.py', 'debug.py', 'dep_util.py', 'dir_util.py', 'dist.py', 'errors.py', 'extension.py', 'fancy_getopt.py', 'filelist.py', 'file_util.py', 'log.py', 'msvc9compiler.py', 'msvccompiler.py', 'README', 'spawn.py', 'sysconfig.py', 'text_file.py', 'unixccompiler.py', 'util.py', 'version.py', 'versionpredicate.py', '_msvccompiler.py', '__init__.py']\n",
      "['bdist.py', 'bdist_dumb.py', 'bdist_msi.py', 'bdist_rpm.py', 'bdist_wininst.py', 'build.py', 'build_clib.py', 'build_ext.py', 'build_py.py', 'build_scripts.py', 'check.py', 'clean.py', 'command_template', 'config.py', 'install.py', 'install_data.py', 'install_egg_info.py', 'install_headers.py', 'install_lib.py', 'install_scripts.py', 'register.py', 'sdist.py', 'upload.py', 'wininst-10.0-amd64.exe', 'wininst-10.0.exe', 'wininst-14.0-amd64.exe', 'wininst-14.0.exe', 'wininst-6.0.exe', 'wininst-7.1.exe', 'wininst-8.0.exe', 'wininst-9.0-amd64.exe', 'wininst-9.0.exe', '__init__.py']\n",
      "['Setup.sample', 'support.py', 'test_archive_util.py', 'test_bdist.py', 'test_bdist_dumb.py', 'test_bdist_msi.py', 'test_bdist_rpm.py', 'test_bdist_wininst.py', 'test_build.py', 'test_build_clib.py', 'test_build_ext.py', 'test_build_py.py', 'test_build_scripts.py', 'test_check.py', 'test_clean.py', 'test_cmd.py', 'test_config.py', 'test_config_cmd.py', 'test_core.py', 'test_cygwinccompiler.py', 'test_dep_util.py', 'test_dir_util.py', 'test_dist.py', 'test_extension.py', 'test_filelist.py', 'test_file_util.py', 'test_install.py', 'test_install_data.py', 'test_install_headers.py', 'test_install_lib.py', 'test_install_scripts.py', 'test_log.py', 'test_msvc9compiler.py', 'test_msvccompiler.py', 'test_register.py', 'test_sdist.py', 'test_spawn.py', 'test_sysconfig.py', 'test_text_file.py', 'test_unixccompiler.py', 'test_upload.py', 'test_util.py', 'test_version.py', 'test_versionpredicate.py', '__init__.py']\n",
      "['architecture.rst', 'base64mime.py', 'charset.py', 'contentmanager.py', 'encoders.py', 'errors.py', 'feedparser.py', 'generator.py', 'header.py', 'headerregistry.py', 'iterators.py', 'message.py', 'parser.py', 'policy.py', 'quoprimime.py', 'utils.py', '_encoded_words.py', '_header_value_parser.py', '_parseaddr.py', '_policybase.py', '__init__.py']\n",
      "['application.py', 'audio.py', 'base.py', 'image.py', 'message.py', 'multipart.py', 'nonmultipart.py', 'text.py', '__init__.py']\n",
      "['aliases.py', 'ascii.py', 'base64_codec.py', 'big5.py', 'big5hkscs.py', 'bz2_codec.py', 'charmap.py', 'cp037.py', 'cp1006.py', 'cp1026.py', 'cp1125.py', 'cp1140.py', 'cp1250.py', 'cp1251.py', 'cp1252.py', 'cp1253.py', 'cp1254.py', 'cp1255.py', 'cp1256.py', 'cp1257.py', 'cp1258.py', 'cp273.py', 'cp424.py', 'cp437.py', 'cp500.py', 'cp65001.py', 'cp720.py', 'cp737.py', 'cp775.py', 'cp850.py', 'cp852.py', 'cp855.py', 'cp856.py', 'cp857.py', 'cp858.py', 'cp860.py', 'cp861.py', 'cp862.py', 'cp863.py', 'cp864.py', 'cp865.py', 'cp866.py', 'cp869.py', 'cp874.py', 'cp875.py', 'cp932.py', 'cp949.py', 'cp950.py', 'euc_jisx0213.py', 'euc_jis_2004.py', 'euc_jp.py', 'euc_kr.py', 'gb18030.py', 'gb2312.py', 'gbk.py', 'hex_codec.py', 'hp_roman8.py', 'hz.py', 'idna.py', 'iso2022_jp.py', 'iso2022_jp_1.py', 'iso2022_jp_2.py', 'iso2022_jp_2004.py', 'iso2022_jp_3.py', 'iso2022_jp_ext.py', 'iso2022_kr.py', 'iso8859_1.py', 'iso8859_10.py', 'iso8859_11.py', 'iso8859_13.py', 'iso8859_14.py', 'iso8859_15.py', 'iso8859_16.py', 'iso8859_2.py', 'iso8859_3.py', 'iso8859_4.py', 'iso8859_5.py', 'iso8859_6.py', 'iso8859_7.py', 'iso8859_8.py', 'iso8859_9.py', 'johab.py', 'koi8_r.py', 'koi8_t.py', 'koi8_u.py', 'kz1048.py', 'latin_1.py', 'mac_arabic.py', 'mac_centeuro.py', 'mac_croatian.py', 'mac_cyrillic.py', 'mac_farsi.py', 'mac_greek.py', 'mac_iceland.py', 'mac_latin2.py', 'mac_roman.py', 'mac_romanian.py', 'mac_turkish.py', 'mbcs.py', 'oem.py', 'palmos.py', 'ptcp154.py', 'punycode.py', 'quopri_codec.py', 'raw_unicode_escape.py', 'rot_13.py', 'shift_jis.py', 'shift_jisx0213.py', 'shift_jis_2004.py', 'tis_620.py', 'undefined.py', 'unicode_escape.py', 'unicode_internal.py', 'utf_16.py', 'utf_16_be.py', 'utf_16_le.py', 'utf_32.py', 'utf_32_be.py', 'utf_32_le.py', 'utf_7.py', 'utf_8.py', 'utf_8_sig.py', 'uu_codec.py', 'zlib_codec.py', '__init__.py']\n",
      "['_uninstall.py', '__init__.py', '__main__.py']\n",
      "['pip-18.1-py2.py3-none-any.whl', 'setuptools-40.6.2-py2.py3-none-any.whl']\n",
      "['entities.py', 'parser.py', '__init__.py']\n",
      "['client.py', 'cookiejar.py', 'cookies.py', 'server.py', '__init__.py']\n",
      "['autocomplete.py', 'autocomplete_w.py', 'autoexpand.py', 'browser.py', 'calltip.py', 'calltip_w.py', 'ChangeLog', 'codecontext.py', 'colorizer.py', 'config-extensions.def', 'config-highlight.def', 'config-keys.def', 'config-main.def', 'config.py', 'configdialog.py', 'config_key.py', 'CREDITS.txt', 'debugger.py', 'debugger_r.py', 'debugobj.py', 'debugobj_r.py', 'delegator.py', 'dynoption.py', 'editor.py', 'extend.txt', 'filelist.py', 'grep.py', 'help.html', 'help.py', 'help_about.py', 'history.py', 'HISTORY.txt', 'hyperparser.py', 'idle.bat', 'idle.py', 'idle.pyw', 'iomenu.py', 'macosx.py', 'mainmenu.py', 'multicall.py', 'NEWS.txt', 'NEWS2x.txt', 'outwin.py', 'paragraph.py', 'parenmatch.py', 'pathbrowser.py', 'percolator.py', 'pyparse.py', 'pyshell.py', 'query.py', 'README.txt', 'redirector.py', 'replace.py', 'rpc.py', 'rstrip.py', 'run.py', 'runscript.py', 'scrolledlist.py', 'search.py', 'searchbase.py', 'searchengine.py', 'squeezer.py', 'stackviewer.py', 'statusbar.py', 'textview.py', 'TODO.txt', 'tooltip.py', 'tree.py', 'undo.py', 'window.py', 'zoomheight.py', 'zzdummy.py', '_pyclbr.py', '__init__.py', '__main__.py']\n",
      "['folder.gif', 'idle.icns', 'idle.ico', 'idle_16.gif', 'idle_16.png', 'idle_32.gif', 'idle_32.png', 'idle_48.gif', 'idle_48.png', 'minusnode.gif', 'openfolder.gif', 'plusnode.gif', 'python.gif', 'tk.gif']\n",
      "['htest.py', 'mock_idle.py', 'mock_tk.py', 'README.txt', 'template.py', 'test_autocomplete.py', 'test_autocomplete_w.py', 'test_autoexpand.py', 'test_browser.py', 'test_calltip.py', 'test_calltip_w.py', 'test_codecontext.py', 'test_colorizer.py', 'test_config.py', 'test_configdialog.py', 'test_config_key.py', 'test_debugger.py', 'test_debugger_r.py', 'test_debugobj.py', 'test_debugobj_r.py', 'test_delegator.py', 'test_editmenu.py', 'test_editor.py', 'test_filelist.py', 'test_grep.py', 'test_help.py', 'test_help_about.py', 'test_history.py', 'test_hyperparser.py', 'test_iomenu.py', 'test_macosx.py', 'test_mainmenu.py', 'test_multicall.py', 'test_outwin.py', 'test_paragraph.py', 'test_parenmatch.py', 'test_pathbrowser.py', 'test_percolator.py', 'test_pyparse.py', 'test_pyshell.py', 'test_query.py', 'test_redirector.py', 'test_replace.py', 'test_rpc.py', 'test_rstrip.py', 'test_run.py', 'test_runscript.py', 'test_scrolledlist.py', 'test_search.py', 'test_searchbase.py', 'test_searchengine.py', 'test_squeezer.py', 'test_stackviewer.py', 'test_statusbar.py', 'test_text.py', 'test_textview.py', 'test_tooltip.py', 'test_tree.py', 'test_undo.py', 'test_warning.py', 'test_window.py', 'test_zoomheight.py', '__init__.py']\n",
      "['abc.py', 'machinery.py', 'util.py', '_bootstrap.py', '_bootstrap_external.py', '__init__.py']\n",
      "['decoder.py', 'encoder.py', 'scanner.py', 'tool.py', '__init__.py']\n",
      "['btm_matcher.py', 'btm_utils.py', 'fixer_base.py', 'fixer_util.py', 'Grammar.txt', 'main.py', 'patcomp.py', 'PatternGrammar.txt', 'pygram.py', 'pytree.py', 'refactor.py', '__init__.py', '__main__.py']\n",
      "['fix_apply.py', 'fix_asserts.py', 'fix_basestring.py', 'fix_buffer.py', 'fix_dict.py', 'fix_except.py', 'fix_exec.py', 'fix_execfile.py', 'fix_exitfunc.py', 'fix_filter.py', 'fix_funcattrs.py', 'fix_future.py', 'fix_getcwdu.py', 'fix_has_key.py', 'fix_idioms.py', 'fix_import.py', 'fix_imports.py', 'fix_imports2.py', 'fix_input.py', 'fix_intern.py', 'fix_isinstance.py', 'fix_itertools.py', 'fix_itertools_imports.py', 'fix_long.py', 'fix_map.py', 'fix_metaclass.py', 'fix_methodattrs.py', 'fix_ne.py', 'fix_next.py', 'fix_nonzero.py', 'fix_numliterals.py', 'fix_operator.py', 'fix_paren.py', 'fix_print.py', 'fix_raise.py', 'fix_raw_input.py', 'fix_reduce.py', 'fix_reload.py', 'fix_renames.py', 'fix_repr.py', 'fix_set_literal.py', 'fix_standarderror.py', 'fix_sys_exc.py', 'fix_throw.py', 'fix_tuple_params.py', 'fix_types.py', 'fix_unicode.py', 'fix_urllib.py', 'fix_ws_comma.py', 'fix_xrange.py', 'fix_xreadlines.py', 'fix_zip.py', '__init__.py']\n",
      "['conv.py', 'driver.py', 'grammar.py', 'literals.py', 'parse.py', 'pgen.py', 'token.py', 'tokenize.py', '__init__.py']\n",
      "['pytree_idempotency.py', 'support.py', 'test_all_fixers.py', 'test_fixers.py', 'test_main.py', 'test_parser.py', 'test_pytree.py', 'test_refactor.py', 'test_util.py', '__init__.py', '__main__.py']\n",
      "['bom.py', 'crlf.py', 'different_encoding.py', 'false_encoding.py', 'infinite_recursion.py', 'py2_test_grammar.py', 'py3_test_grammar.py', 'README']\n",
      "['bad_order.py', 'no_fixer_cls.py', 'parrot_example.py']\n",
      "['fix_explicit.py', 'fix_first.py', 'fix_last.py', 'fix_parrot.py', 'fix_preorder.py', '__init__.py']\n",
      "['config.py', 'handlers.py', '__init__.py']\n",
      "['schema.py', 'sequence.py', 'text.py', '__init__.py']\n",
      "['connection.py', 'context.py', 'forkserver.py', 'heap.py', 'managers.py', 'pool.py', 'popen_fork.py', 'popen_forkserver.py', 'popen_spawn_posix.py', 'popen_spawn_win32.py', 'process.py', 'queues.py', 'reduction.py', 'resource_sharer.py', 'semaphore_tracker.py', 'sharedctypes.py', 'spawn.py', 'synchronize.py', 'util.py', '__init__.py']\n",
      "['connection.py', '__init__.py']\n",
      "['topics.py', '_pydoc.css', '__init__.py']\n",
      "['README.txt']\n",
      "['dbapi2.py', 'dump.py', '__init__.py']\n",
      "['dbapi.py', 'dump.py', 'factory.py', 'hooks.py', 'regression.py', 'transactions.py', 'types.py', 'userfunctions.py', '__init__.py']\n",
      "['allsans.pem', 'ann_module.py', 'ann_module2.py', 'ann_module3.py', 'audiotest.au', 'audiotests.py', 'autotest.py', 'badcert.pem', 'badkey.pem', 'badsyntax_3131.py', 'badsyntax_future10.py', 'badsyntax_future3.py', 'badsyntax_future4.py', 'badsyntax_future5.py', 'badsyntax_future6.py', 'badsyntax_future7.py', 'badsyntax_future8.py', 'badsyntax_future9.py', 'badsyntax_pep3120.py', 'bad_coding.py', 'bad_coding2.py', 'bisect.py', 'bytecode_helper.py', 'cfgparser.1', 'cfgparser.2', 'cfgparser.3', 'cmath_testcases.txt', 'coding20731.py', 'curses_tests.py', 'datetimetester.py', 'dis_module.py', 'doctest_aliases.py', 'double_const.py', 'empty.vbs', 'exception_hierarchy.txt', 'ffdh3072.pem', 'final_a.py', 'final_b.py', 'floating_points.txt', 'fork_wait.py', 'formatfloat_testcases.txt', 'future_test1.py', 'future_test2.py', 'gdb_sample.py', 'ieee754.txt', 'imp_dummy.py', 'inspect_fodder.py', 'inspect_fodder2.py', 'keycert.passwd.pem', 'keycert.pem', 'keycert2.pem', 'keycert3.pem', 'keycert4.pem', 'list_tests.py', 'lock_tests.py', 'mailcap.txt', 'make_ssl_certs.py', 'mapping_tests.py', 'math_testcases.txt', 'memory_watchdog.py', 'mime.types', 'mock_socket.py', 'mod_generics_cache.py', 'mp_fork_bomb.py', 'mp_preload.py', 'multibytecodec_support.py', 'nokia.pem', 'nullbytecert.pem', 'nullcert.pem', 'outstanding_bugs.py', 'pickletester.py', 'profilee.py', 'pstats.pck', 'pycacert.pem', 'pycakey.pem', 'pyclbr_input.py', 'pydocfodder.py', 'pydoc_mod.py', 'pystone.py', 'pythoninfo.py', 'randv2_32.pck', 'randv2_64.pck', 'randv3.pck', 'recursion.tar', 'regrtest.py', 'relimport.py', 'reperf.py', 'revocation.crl', 're_tests.py', 'sample_doctest.py', 'sample_doctest_no_docstrings.py', 'sample_doctest_no_doctests.py', 'selfsigned_pythontestdotnet.pem', 'seq_tests.py', 'sgml_input.html', 'signalinterproctester.py', 'Sine-1000Hz-300ms.aif', 'sortperf.py', 'ssltests.py', 'ssl_cert.pem', 'ssl_key.passwd.pem', 'ssl_key.pem', 'ssl_servers.py', 'string_tests.py', 'talos-2019-0758.pem', 'testcodec.py', 'testtar.tar', 'test_abc.py', 'test_abstract_numbers.py', 'test_aifc.py', 'test_argparse.py', 'test_array.py', 'test_asdl_parser.py', 'test_ast.py', 'test_asyncgen.py', 'test_asynchat.py', 'test_asyncore.py', 'test_atexit.py', 'test_audioop.py', 'test_augassign.py', 'test_base64.py', 'test_baseexception.py', 'test_bdb.py', 'test_bigaddrspace.py', 'test_bigmem.py', 'test_binascii.py', 'test_binhex.py', 'test_binop.py', 'test_bisect.py', 'test_bool.py', 'test_buffer.py', 'test_bufio.py', 'test_builtin.py', 'test_bytes.py', 'test_bz2.py', 'test_calendar.py', 'test_call.py', 'test_capi.py', 'test_cgi.py', 'test_cgitb.py', 'test_charmapcodec.py', 'test_class.py', 'test_cmath.py', 'test_cmd.py', 'test_cmd_line.py', 'test_cmd_line_script.py', 'test_code.py', 'test_codeccallbacks.py', 'test_codecencodings_cn.py', 'test_codecencodings_hk.py', 'test_codecencodings_iso2022.py', 'test_codecencodings_jp.py', 'test_codecencodings_kr.py', 'test_codecencodings_tw.py', 'test_codecmaps_cn.py', 'test_codecmaps_hk.py', 'test_codecmaps_jp.py', 'test_codecmaps_kr.py', 'test_codecmaps_tw.py', 'test_codecs.py', 'test_codeop.py', 'test_code_module.py', 'test_collections.py', 'test_colorsys.py', 'test_compare.py', 'test_compile.py', 'test_compileall.py', 'test_complex.py', 'test_concurrent_futures.py', 'test_configparser.py', 'test_contains.py', 'test_contextlib.py', 'test_copy.py', 'test_copyreg.py', 'test_coroutines.py', 'test_cprofile.py', 'test_crashers.py', 'test_crypt.py', 'test_csv.py', 'test_ctypes.py', 'test_curses.py', 'test_datetime.py', 'test_dbm.py', 'test_dbm_dumb.py', 'test_dbm_gnu.py', 'test_dbm_ndbm.py', 'test_decimal.py', 'test_decorators.py', 'test_defaultdict.py', 'test_deque.py', 'test_descr.py', 'test_descrtut.py', 'test_devpoll.py', 'test_dict.py', 'test_dictcomps.py', 'test_dictviews.py', 'test_dict_version.py', 'test_difflib.py', 'test_difflib_expect.html', 'test_dis.py', 'test_distutils.py', 'test_doctest.py', 'test_doctest.txt', 'test_doctest2.py', 'test_doctest2.txt', 'test_doctest3.txt', 'test_doctest4.txt', 'test_docxmlrpc.py', 'test_dtrace.py', 'test_dummy_thread.py', 'test_dummy_threading.py', 'test_dynamic.py', 'test_dynamicclassattribute.py', 'test_eintr.py', 'test_ensurepip.py', 'test_enum.py', 'test_enumerate.py', 'test_eof.py', 'test_epoll.py', 'test_errno.py', 'test_exceptions.py', 'test_exception_hierarchy.py', 'test_exception_variations.py', 'test_extcall.py', 'test_faulthandler.py', 'test_fcntl.py', 'test_file.py', 'test_filecmp.py', 'test_fileinput.py', 'test_fileio.py', 'test_file_eintr.py', 'test_finalization.py', 'test_float.py', 'test_flufl.py', 'test_fnmatch.py', 'test_fork1.py', 'test_format.py', 'test_fractions.py', 'test_frame.py', 'test_fstring.py', 'test_ftplib.py', 'test_funcattrs.py', 'test_functools.py', 'test_future.py', 'test_future3.py', 'test_future4.py', 'test_future5.py', 'test_gc.py', 'test_gdb.py', 'test_generators.py', 'test_generator_stop.py', 'test_genericpath.py', 'test_genexps.py', 'test_getargs2.py', 'test_getopt.py', 'test_getpass.py', 'test_gettext.py', 'test_glob.py', 'test_global.py', 'test_grammar.py', 'test_grp.py', 'test_gzip.py', 'test_hash.py', 'test_hashlib.py', 'test_heapq.py', 'test_hmac.py', 'test_html.py', 'test_htmlparser.py', 'test_httplib.py', 'test_httpservers.py', 'test_http_cookiejar.py', 'test_http_cookies.py', 'test_idle.py', 'test_imaplib.py', 'test_imghdr.py', 'test_imp.py', 'test_index.py', 'test_inspect.py', 'test_int.py', 'test_int_literal.py', 'test_io.py', 'test_ioctl.py', 'test_ipaddress.py', 'test_isinstance.py', 'test_iter.py', 'test_iterlen.py', 'test_itertools.py', 'test_keyword.py', 'test_keywordonlyarg.py', 'test_kqueue.py', 'test_largefile.py', 'test_lib2to3.py', 'test_linecache.py', 'test_list.py', 'test_listcomps.py', 'test_locale.py', 'test_logging.py', 'test_long.py', 'test_longexp.py', 'test_lzma.py', 'test_macpath.py', 'test_macurl2path.py', 'test_mailbox.py', 'test_mailcap.py', 'test_marshal.py', 'test_math.py', 'test_memoryio.py', 'test_memoryview.py', 'test_metaclass.py', 'test_mimetypes.py', 'test_minidom.py', 'test_mmap.py', 'test_module.py', 'test_modulefinder.py', 'test_msilib.py', 'test_multibytecodec.py', 'test_multiprocessing_fork.py', 'test_multiprocessing_forkserver.py', 'test_multiprocessing_main_handling.py', 'test_multiprocessing_spawn.py', 'test_netrc.py', 'test_nis.py', 'test_nntplib.py', 'test_normalization.py', 'test_ntpath.py', 'test_numeric_tower.py', 'test_opcodes.py', 'test_openpty.py', 'test_operator.py', 'test_optparse.py', 'test_ordered_dict.py', 'test_os.py', 'test_ossaudiodev.py', 'test_osx_env.py', 'test_parser.py', 'test_pathlib.py', 'test_pdb.py', 'test_peepholer.py', 'test_pickle.py', 'test_pickletools.py', 'test_pipes.py', 'test_pkg.py', 'test_pkgimport.py', 'test_pkgutil.py', 'test_platform.py', 'test_plistlib.py', 'test_poll.py', 'test_popen.py', 'test_poplib.py', 'test_posix.py', 'test_posixpath.py', 'test_pow.py', 'test_pprint.py', 'test_print.py', 'test_profile.py', 'test_property.py', 'test_pstats.py', 'test_pty.py', 'test_pulldom.py', 'test_pwd.py', 'test_pyclbr.py', 'test_pydoc.py', 'test_pyexpat.py', 'test_py_compile.py', 'test_queue.py', 'test_quopri.py', 'test_raise.py', 'test_random.py', 'test_range.py', 'test_re.py', 'test_readline.py', 'test_regrtest.py', 'test_repl.py', 'test_reprlib.py', 'test_resource.py', 'test_richcmp.py', 'test_rlcompleter.py', 'test_robotparser.py', 'test_runpy.py', 'test_sax.py', 'test_sched.py', 'test_scope.py', 'test_script_helper.py', 'test_secrets.py', 'test_select.py', 'test_selectors.py', 'test_set.py', 'test_setcomps.py', 'test_shelve.py', 'test_shlex.py', 'test_shutil.py', 'test_signal.py', 'test_site.py', 'test_slice.py', 'test_smtpd.py', 'test_smtplib.py', 'test_smtpnet.py', 'test_sndhdr.py', 'test_socket.py', 'test_socketserver.py', 'test_sort.py', 'test_source_encoding.py', 'test_spwd.py', 'test_sqlite.py', 'test_ssl.py', 'test_startfile.py', 'test_stat.py', 'test_statistics.py', 'test_strftime.py', 'test_string.py', 'test_stringprep.py', 'test_string_literals.py', 'test_strptime.py', 'test_strtod.py', 'test_struct.py', 'test_structmembers.py', 'test_structseq.py', 'test_subclassinit.py', 'test_subprocess.py', 'test_sunau.py', 'test_sundry.py', 'test_super.py', 'test_support.py', 'test_symbol.py', 'test_symtable.py', 'test_syntax.py', 'test_sys.py', 'test_sysconfig.py', 'test_syslog.py', 'test_sys_setprofile.py', 'test_sys_settrace.py', 'test_tarfile.py', 'test_tcl.py', 'test_telnetlib.py', 'test_tempfile.py', 'test_textwrap.py', 'test_thread.py', 'test_threadedtempfile.py', 'test_threaded_import.py', 'test_threading.py', 'test_threading_local.py', 'test_threadsignals.py', 'test_time.py', 'test_timeit.py', 'test_timeout.py', 'test_tix.py', 'test_tk.py', 'test_tokenize.py', 'test_trace.py', 'test_traceback.py', 'test_tracemalloc.py', 'test_ttk_guionly.py', 'test_ttk_textonly.py', 'test_tuple.py', 'test_turtle.py', 'test_typechecks.py', 'test_types.py', 'test_typing.py', 'test_ucn.py', 'test_unary.py', 'test_unicode.py', 'test_unicodedata.py', 'test_unicode_file.py', 'test_unicode_file_functions.py', 'test_unicode_identifiers.py', 'test_unittest.py', 'test_univnewlines.py', 'test_unpack.py', 'test_unpack_ex.py', 'test_urllib.py', 'test_urllib2.py', 'test_urllib2net.py', 'test_urllib2_localnet.py', 'test_urllibnet.py', 'test_urllib_response.py', 'test_urlparse.py', 'test_userdict.py', 'test_userlist.py', 'test_userstring.py', 'test_utf8source.py', 'test_uu.py', 'test_uuid.py', 'test_venv.py', 'test_wait3.py', 'test_wait4.py', 'test_wave.py', 'test_weakref.py', 'test_weakset.py', 'test_webbrowser.py', 'test_winconsoleio.py', 'test_winreg.py', 'test_winsound.py', 'test_with.py', 'test_wsgiref.py', 'test_xdrlib.py', 'test_xmlrpc.py', 'test_xmlrpc_net.py', 'test_xml_dom_minicompat.py', 'test_xml_etree.py', 'test_xml_etree_c.py', 'test_yield_from.py', 'test_zipapp.py', 'test_zipfile.py', 'test_zipfile64.py', 'test_zipimport.py', 'test_zipimport_support.py', 'test_zlib.py', 'test__locale.py', 'test__opcode.py', 'test__osx_support.py', 'test___all__.py', 'test___future__.py', 'tf_inherit_check.py', 'threaded_import_hangers.py', 'time_hashlib.py', 'tokenize_tests-latin1-coding-cookie-and-utf8-bom-sig.txt', 'tokenize_tests-no-coding-cookie-and-utf8-bom-sig-only.txt', 'tokenize_tests-utf8-coding-cookie-and-no-utf8-bom-sig.txt', 'tokenize_tests-utf8-coding-cookie-and-utf8-bom-sig.txt', 'tokenize_tests.txt', 'win_console_handler.py', 'xmltests.py', 'zipdir.zip', 'zip_cp437_header.zip', '_test_multiprocessing.py', '__init__.py', '__main__.py']\n",
      "['pluck-alaw.aifc', 'pluck-pcm16.aiff', 'pluck-pcm16.au', 'pluck-pcm16.wav', 'pluck-pcm24.aiff', 'pluck-pcm24.au', 'pluck-pcm24.wav', 'pluck-pcm32.aiff', 'pluck-pcm32.au', 'pluck-pcm32.wav', 'pluck-pcm8.aiff', 'pluck-pcm8.au', 'pluck-pcm8.wav', 'pluck-ulaw.aifc', 'pluck-ulaw.au']\n",
      "['4e1295a3.0', '5ed36f99.0', '6e88d7b8.0', '99d0fa06.0', 'b1930218.0', 'ceff1710.0']\n",
      "['big5-utf8.txt', 'big5.txt', 'big5hkscs-utf8.txt', 'big5hkscs.txt', 'cp949-utf8.txt', 'cp949.txt', 'euc_jisx0213-utf8.txt', 'euc_jisx0213.txt', 'euc_jp-utf8.txt', 'euc_jp.txt', 'euc_kr-utf8.txt', 'euc_kr.txt', 'gb18030-utf8.txt', 'gb18030.txt', 'gb2312-utf8.txt', 'gb2312.txt', 'gbk-utf8.txt', 'gbk.txt', 'hz-utf8.txt', 'hz.txt', 'iso2022_jp-utf8.txt', 'iso2022_jp.txt', 'iso2022_kr-utf8.txt', 'iso2022_kr.txt', 'johab-utf8.txt', 'johab.txt', 'shift_jis-utf8.txt', 'shift_jis.txt', 'shift_jisx0213-utf8.txt', 'shift_jisx0213.txt']\n",
      "['bogus_code_obj.py', 'gc_inspection.py', 'infinite_loop_re.py', 'mutation_inside_cyclegc.py', 'README', 'recursive_call.py', 'trace_at_recursion_limit.py', 'underlying_dict.py']\n",
      "['README']\n",
      "['abs.decTest', 'add.decTest', 'and.decTest', 'base.decTest', 'clamp.decTest', 'class.decTest', 'compare.decTest', 'comparetotal.decTest', 'comparetotmag.decTest', 'copy.decTest', 'copyabs.decTest', 'copynegate.decTest', 'copysign.decTest', 'ddAbs.decTest', 'ddAdd.decTest', 'ddAnd.decTest', 'ddBase.decTest', 'ddCanonical.decTest', 'ddClass.decTest', 'ddCompare.decTest', 'ddCompareSig.decTest', 'ddCompareTotal.decTest', 'ddCompareTotalMag.decTest', 'ddCopy.decTest', 'ddCopyAbs.decTest', 'ddCopyNegate.decTest', 'ddCopySign.decTest', 'ddDivide.decTest', 'ddDivideInt.decTest', 'ddEncode.decTest', 'ddFMA.decTest', 'ddInvert.decTest', 'ddLogB.decTest', 'ddMax.decTest', 'ddMaxMag.decTest', 'ddMin.decTest', 'ddMinMag.decTest', 'ddMinus.decTest', 'ddMultiply.decTest', 'ddNextMinus.decTest', 'ddNextPlus.decTest', 'ddNextToward.decTest', 'ddOr.decTest', 'ddPlus.decTest', 'ddQuantize.decTest', 'ddReduce.decTest', 'ddRemainder.decTest', 'ddRemainderNear.decTest', 'ddRotate.decTest', 'ddSameQuantum.decTest', 'ddScaleB.decTest', 'ddShift.decTest', 'ddSubtract.decTest', 'ddToIntegral.decTest', 'ddXor.decTest', 'decDouble.decTest', 'decQuad.decTest', 'decSingle.decTest', 'divide.decTest', 'divideint.decTest', 'dqAbs.decTest', 'dqAdd.decTest', 'dqAnd.decTest', 'dqBase.decTest', 'dqCanonical.decTest', 'dqClass.decTest', 'dqCompare.decTest', 'dqCompareSig.decTest', 'dqCompareTotal.decTest', 'dqCompareTotalMag.decTest', 'dqCopy.decTest', 'dqCopyAbs.decTest', 'dqCopyNegate.decTest', 'dqCopySign.decTest', 'dqDivide.decTest', 'dqDivideInt.decTest', 'dqEncode.decTest', 'dqFMA.decTest', 'dqInvert.decTest', 'dqLogB.decTest', 'dqMax.decTest', 'dqMaxMag.decTest', 'dqMin.decTest', 'dqMinMag.decTest', 'dqMinus.decTest', 'dqMultiply.decTest', 'dqNextMinus.decTest', 'dqNextPlus.decTest', 'dqNextToward.decTest', 'dqOr.decTest', 'dqPlus.decTest', 'dqQuantize.decTest', 'dqReduce.decTest', 'dqRemainder.decTest', 'dqRemainderNear.decTest', 'dqRotate.decTest', 'dqSameQuantum.decTest', 'dqScaleB.decTest', 'dqShift.decTest', 'dqSubtract.decTest', 'dqToIntegral.decTest', 'dqXor.decTest', 'dsBase.decTest', 'dsEncode.decTest', 'exp.decTest', 'extra.decTest', 'fma.decTest', 'inexact.decTest', 'invert.decTest', 'ln.decTest', 'log10.decTest', 'logb.decTest', 'max.decTest', 'maxmag.decTest', 'min.decTest', 'minmag.decTest', 'minus.decTest', 'multiply.decTest', 'nextminus.decTest', 'nextplus.decTest', 'nexttoward.decTest', 'or.decTest', 'plus.decTest', 'power.decTest', 'powersqrt.decTest', 'quantize.decTest', 'randomBound32.decTest', 'randoms.decTest', 'reduce.decTest', 'remainder.decTest', 'remainderNear.decTest', 'rescale.decTest', 'rotate.decTest', 'rounding.decTest', 'samequantum.decTest', 'scaleb.decTest', 'shift.decTest', 'squareroot.decTest', 'subtract.decTest', 'testall.decTest', 'tointegral.decTest', 'tointegralx.decTest', 'xor.decTest']\n",
      "['assert_usable.d', 'assert_usable.stp', 'call_stack.d', 'call_stack.d.expected', 'call_stack.py', 'call_stack.stp', 'call_stack.stp.expected', 'gc.d', 'gc.d.expected', 'gc.py', 'gc.stp', 'gc.stp.expected', 'instance.py', 'line.d', 'line.d.expected', 'line.py']\n",
      "['eintr_tester.py']\n",
      "['module_iso_8859_1.py', 'module_koi8_r.py', '__init__.py']\n",
      "['python.bmp', 'python.exr', 'python.gif', 'python.jpg', 'python.pbm', 'python.pgm', 'python.png', 'python.ppm', 'python.ras', 'python.sgi', 'python.tiff', 'python.webp', 'python.xbm']\n",
      "['README.txt', 'test_ctypes.py', 'test_selftype.py', '__init__.py']\n",
      "['cmdline.py', 'main.py', 'refleak.py', 'runtest.py', 'runtest_mp.py', 'save_env.py', 'setup.py', 'utils.py', '__init__.py']\n",
      "['README', 'sndhdr.8svx', 'sndhdr.aifc', 'sndhdr.aiff', 'sndhdr.au', 'sndhdr.hcom', 'sndhdr.sndt', 'sndhdr.voc', 'sndhdr.wav']\n",
      "['fd_status.py', 'input_reader.py', 'qcat.py', 'qgrep.py', 'sigchild_ignore.py']\n",
      "['script_helper.py', 'testresult.py', '__init__.py']\n",
      "['echo.py', 'echo2.py', 'echo3.py', 'test_base_events.py', 'test_events.py', 'test_futures.py', 'test_locks.py', 'test_pep492.py', 'test_proactor_events.py', 'test_queues.py', 'test_selector_events.py', 'test_sslproto.py', 'test_streams.py', 'test_subprocess.py', 'test_tasks.py', 'test_transports.py', 'test_unix_events.py', 'test_windows_events.py', 'test_windows_utils.py', '__init__.py', '__main__.py']\n",
      "['test_asian_codecs.py', 'test_contentmanager.py', 'test_defect_handling.py', 'test_email.py', 'test_generator.py', 'test_headerregistry.py', 'test_inversion.py', 'test_message.py', 'test_parser.py', 'test_pickleable.py', 'test_policy.py', 'test_utils.py', 'test__encoded_words.py', 'test__header_value_parser.py', 'torture_test.py', '__init__.py', '__main__.py']\n",
      "['audiotest.au', 'msg_01.txt', 'msg_02.txt', 'msg_03.txt', 'msg_04.txt', 'msg_05.txt', 'msg_06.txt', 'msg_07.txt', 'msg_08.txt', 'msg_09.txt', 'msg_10.txt', 'msg_11.txt', 'msg_12.txt', 'msg_12a.txt', 'msg_13.txt', 'msg_14.txt', 'msg_15.txt', 'msg_16.txt', 'msg_17.txt', 'msg_18.txt', 'msg_19.txt', 'msg_20.txt', 'msg_21.txt', 'msg_22.txt', 'msg_23.txt', 'msg_24.txt', 'msg_25.txt', 'msg_26.txt', 'msg_27.txt', 'msg_28.txt', 'msg_29.txt', 'msg_30.txt', 'msg_31.txt', 'msg_32.txt', 'msg_33.txt', 'msg_34.txt', 'msg_35.txt', 'msg_36.txt', 'msg_37.txt', 'msg_38.txt', 'msg_39.txt', 'msg_40.txt', 'msg_41.txt', 'msg_42.txt', 'msg_43.txt', 'msg_44.txt', 'msg_45.txt', 'msg_46.txt', 'PyBanner048.gif']\n",
      "['__init__.py', '__main__.py']\n",
      "[]\n",
      "['basic.py', 'basic2.py', 'indirect.py', 'rebinding.py', 'rebinding2.py', 'subpackage.py', 'util.py']\n",
      "['subpackage2.py', 'util.py']\n",
      "['submodule.py', '__init__.py']\n",
      "['submodule1.py', 'submodule2.py']\n",
      "['abc.py', 'test_abc.py', 'test_api.py', 'test_lazy.py', 'test_locks.py', 'test_namespace_pkgs.py', 'test_spec.py', 'test_util.py', 'test_windows.py', 'util.py', '__init__.py', '__main__.py']\n",
      "['test_finder.py', 'test_loader.py', '__init__.py', '__main__.py']\n",
      "['test_case_sensitivity.py', 'test_finder.py', 'test_loader.py', 'test_path_hook.py', '__init__.py', '__main__.py']\n",
      "['test_finder.py', 'test_loader.py', '__init__.py', '__main__.py']\n",
      "['test_api.py', 'test_caching.py', 'test_fromlist.py', 'test_meta_path.py', 'test_packages.py', 'test_path.py', 'test_relative_imports.py', 'test___loader__.py', 'test___package__.py', '__init__.py', '__main__.py']\n",
      "['missing_directory.zip', 'nested_portion1.zip', 'top_level_portion1.zip']\n",
      "[]\n",
      "['one.py', 'two.py']\n",
      "['a_test.py']\n",
      "['empty']\n",
      "[]\n",
      "['one.py', '__init__.py']\n",
      "[]\n",
      "['one.py']\n",
      "[]\n",
      "['two.py']\n",
      "[]\n",
      "[]\n",
      "['one.py']\n",
      "[]\n",
      "[]\n",
      "['two.py']\n",
      "[]\n",
      "[]\n",
      "['three.py']\n",
      "['test_case_sensitivity.py', 'test_file_loader.py', 'test_finder.py', 'test_path_hook.py', 'test_source_encoding.py', '__init__.py', '__main__.py']\n",
      "['test_decode.py', 'test_default.py', 'test_dump.py', 'test_encode_basestring_ascii.py', 'test_enum.py', 'test_fail.py', 'test_float.py', 'test_indent.py', 'test_pass1.py', 'test_pass2.py', 'test_pass3.py', 'test_recursion.py', 'test_scanstring.py', 'test_separators.py', 'test_speedups.py', 'test_tool.py', 'test_unicode.py', '__init__.py', '__main__.py']\n",
      "['test_fixcid.py', 'test_gprof2html.py', 'test_i18n.py', 'test_md5sum.py', 'test_pdeps.py', 'test_pindent.py', 'test_reindent.py', 'test_sundry.py', 'test_unparse.py', '__init__.py', '__main__.py']\n",
      "['__init__.py', '__main__.py']\n",
      "['import_warning.py', 'stacklevel.py']\n",
      "['testmod.py', '__init__.py']\n",
      "['expat224_utf8_bug.xml', 'simple-ns.xml', 'simple.xml', 'test.xml', 'test.xml.out']\n",
      "['colorchooser.py', 'commondialog.py', 'constants.py', 'dialog.py', 'dnd.py', 'filedialog.py', 'font.py', 'messagebox.py', 'scrolledtext.py', 'simpledialog.py', 'tix.py', 'ttk.py', '__init__.py', '__main__.py']\n",
      "['README', 'runtktests.py', 'support.py', 'widget_tests.py', '__init__.py']\n",
      "['test_font.py', 'test_geometry_managers.py', 'test_images.py', 'test_loadtk.py', 'test_misc.py', 'test_text.py', 'test_variables.py', 'test_widgets.py', '__init__.py']\n",
      "['test_extensions.py', 'test_functions.py', 'test_style.py', 'test_widgets.py', '__init__.py']\n",
      "['bytedesign.py', 'chaos.py', 'clock.py', 'colormixer.py', 'forest.py', 'fractalcurves.py', 'lindenmayer.py', 'minimal_hanoi.py', 'nim.py', 'paint.py', 'peace.py', 'penrose.py', 'planet_and_moon.py', 'rosette.py', 'round_dance.py', 'sorting_animate.py', 'tree.py', 'turtle.cfg', 'two_canvases.py', 'yinyang.py', '__init__.py', '__main__.py']\n",
      "['case.py', 'loader.py', 'main.py', 'mock.py', 'result.py', 'runner.py', 'signals.py', 'suite.py', 'util.py', '__init__.py', '__main__.py']\n",
      "['dummy.py', 'support.py', 'test_assertions.py', 'test_break.py', 'test_case.py', 'test_discovery.py', 'test_functiontestcase.py', 'test_loader.py', 'test_program.py', 'test_result.py', 'test_runner.py', 'test_setups.py', 'test_skipping.py', 'test_suite.py', '_test_warnings.py', '__init__.py', '__main__.py']\n",
      "['support.py', 'testcallable.py', 'testhelpers.py', 'testmagicmethods.py', 'testmock.py', 'testpatch.py', 'testsentinel.py', 'testwith.py', '__init__.py', '__main__.py']\n",
      "['error.py', 'parse.py', 'request.py', 'response.py', 'robotparser.py', '__init__.py']\n",
      "['__init__.py', '__main__.py']\n",
      "[]\n",
      "['activate']\n",
      "['activate.bat', 'Activate.ps1', 'deactivate.bat']\n",
      "['activate.csh', 'activate.fish']\n",
      "['handlers.py', 'headers.py', 'simple_server.py', 'util.py', 'validate.py', '__init__.py']\n",
      "['__init__.py']\n",
      "['domreg.py', 'expatbuilder.py', 'minicompat.py', 'minidom.py', 'NodeFilter.py', 'pulldom.py', 'xmlbuilder.py', '__init__.py']\n",
      "['cElementTree.py', 'ElementInclude.py', 'ElementPath.py', 'ElementTree.py', '__init__.py']\n",
      "['expat.py', '__init__.py']\n",
      "['expatreader.py', 'handler.py', 'saxutils.py', 'xmlreader.py', '_exceptions.py', '__init__.py']\n",
      "['client.py', 'server.py', '__init__.py']\n",
      "['Extras.install.py', 'Makefile.in', 'README']\n",
      "['build-installer.py', 'README.txt', 'seticon.m', 'tk868_on_10_8_10_9.patch']\n",
      "['background.jpg', 'Conclusion.rtf', 'install_certificates.command', 'License.rtf', 'ReadMe.rtf', 'Welcome.rtf']\n",
      "['postflight.documentation', 'postflight.ensurepip', 'postflight.framework', 'postflight.patch-profile']\n",
      "['Disk Image.icns', 'IDLE.icns', 'Python Folder.icns', 'PythonCompiled.icns', 'PythonLauncher.icns', 'PythonSource.icns', 'ReadMe.txt']\n",
      "[]\n",
      "[]\n",
      "['Info.plist', 'PkgInfo']\n",
      "['IDLE']\n",
      "['IDLE.icns', 'idlemain.py', 'PythonCompiled.icns', 'PythonSource.icns']\n",
      "['doscript.h', 'doscript.m', 'factorySettings.plist', 'FileSettings.h', 'FileSettings.m', 'Info.plist.in', 'main.m', 'Makefile.in', 'MyAppDelegate.h', 'MyAppDelegate.m', 'MyDocument.h', 'MyDocument.m', 'PreferencesWindowController.h', 'PreferencesWindowController.m']\n",
      "['Credits.rtf']\n",
      "['classes.nib', 'info.nib', 'objects.nib']\n",
      "['classes.nib', 'info.nib', 'objects.nib']\n",
      "['classes.nib', 'info.nib', 'objects.nib']\n",
      "[]\n",
      "['Info.plist.in', 'PkgInfo']\n",
      "['PythonApplet.icns', 'PythonInterpreter.icns']\n",
      "['Info.plist.in']\n",
      "['IDE.psd', 'PackageManager.psd', 'PythonApplet.psd', 'PythonCompiled.psd', 'PythonIcon.psd', 'PythonSource.psd', 'PythonWSource.psd']\n",
      "['plistlib_generate_testdata.py', 'pythonw.c']\n",
      "['ACKS', 'coverity_model.c', 'gdbinit', 'HISTORY', 'indent.pro', 'NEWS', 'Porting', 'python-config.in', 'python-config.sh.in', 'python-wing3.wpr', 'python-wing4.wpr', 'python-wing5.wpr', 'python.man', 'python.pc.in', 'README', 'README.AIX', 'README.coverity', 'README.valgrind', 'SpecialBuilds.txt', 'svnmap.txt', 'valgrind-python.supp', 'vgrindefs']\n",
      "['addrinfo.h', 'arraymodule.c', 'ar_beos', 'atexitmodule.c', 'audioop.c', 'binascii.c', 'cmathmodule.c', 'config.c.in', 'errnomodule.c', 'faulthandler.c', 'fcntlmodule.c', 'fpectlmodule.c', 'fpetestmodule.c', 'gcmodule.c', 'gc_weakref.txt', 'getaddrinfo.c', 'getbuildinfo.c', 'getnameinfo.c', 'getpath.c', 'grpmodule.c', 'hashlib.h', 'hashtable.c', 'hashtable.h', 'itertoolsmodule.c', 'ld_so_aix.in', 'ld_so_beos', 'main.c', 'makesetup', 'makexp_aix', 'mathmodule.c', 'md5module.c', 'mmapmodule.c', 'nismodule.c', 'ossaudiodev.c', 'overlapped.c', 'parsermodule.c', 'posixmodule.c', 'posixmodule.h', 'pwdmodule.c', 'pyexpat.c', 'readline.c', 'README', 'resource.c', 'rotatingtree.c', 'rotatingtree.h', 'selectmodule.c', 'Setup.config.in', 'Setup.dist', 'sha1module.c', 'sha256module.c', 'sha512module.c', 'signalmodule.c', 'socketmodule.c', 'socketmodule.h', 'spwdmodule.c', 'sre.h', 'sre_constants.h', 'sre_lib.h', 'symtablemodule.c', 'syslogmodule.c', 'termios.c', 'testcapi_long.h', 'timemodule.c', 'tkappinit.c', 'tkinter.h', 'unicodedata.c', 'unicodedata_db.h', 'unicodename_db.h', 'winreparse.h', 'xxlimited.c', 'xxmodule.c', 'xxsubtype.c', 'zipimport.c', 'zlibmodule.c', '_asynciomodule.c', '_bisectmodule.c', '_bz2module.c', '_codecsmodule.c', '_collectionsmodule.c', '_cryptmodule.c', '_csv.c', '_cursesmodule.c', '_curses_panel.c', '_datetimemodule.c', '_dbmmodule.c', '_elementtree.c', '_functoolsmodule.c', '_gdbmmodule.c', '_hashopenssl.c', '_heapqmodule.c', '_json.c', '_localemodule.c', '_lsprof.c', '_lzmamodule.c', '_math.c', '_math.h', '_opcode.c', '_operator.c', '_pickle.c', '_posixsubprocess.c', '_randommodule.c', '_scproxy.c', '_sre.c', '_ssl.c', '_ssl_data.h', '_stat.c', '_struct.c', '_testbuffer.c', '_testcapimodule.c', '_testimportmultiple.c', '_testmultiphase.c', '_threadmodule.c', '_tkinter.c', '_tracemalloc.c', '_weakref.c', '_winapi.c']\n",
      "['alg_jisx0201.h', 'cjkcodecs.h', 'emu_jisx0213_2000.h', 'mappings_cn.h', 'mappings_hk.h', 'mappings_jisx0213_pair.h', 'mappings_jp.h', 'mappings_kr.h', 'mappings_tw.h', 'multibytecodec.c', 'multibytecodec.h', 'README', '_codecs_cn.c', '_codecs_hk.c', '_codecs_iso2022.c', '_codecs_jp.c', '_codecs_kr.c', '_codecs_tw.c']\n",
      "['multibytecodec.c.h']\n",
      "['arraymodule.c.h', 'audioop.c.h', 'binascii.c.h', 'cmathmodule.c.h', 'fcntlmodule.c.h', 'grpmodule.c.h', 'md5module.c.h', 'posixmodule.c.h', 'pwdmodule.c.h', 'pyexpat.c.h', 'sha1module.c.h', 'sha256module.c.h', 'sha512module.c.h', 'signalmodule.c.h', 'spwdmodule.c.h', 'unicodedata.c.h', 'zlibmodule.c.h', '_asynciomodule.c.h', '_bz2module.c.h', '_codecsmodule.c.h', '_cryptmodule.c.h', '_cursesmodule.c.h', '_datetimemodule.c.h', '_dbmmodule.c.h', '_elementtree.c.h', '_gdbmmodule.c.h', '_hashopenssl.c.h', '_lzmamodule.c.h', '_opcode.c.h', '_pickle.c.h', '_sre.c.h', '_ssl.c.h', '_tkinter.c.h', '_weakref.c.h', '_winapi.c.h']\n",
      "['ascii.h', 'asciitab.h', 'COPYING', 'expat.h', 'expat_config.h', 'expat_external.h', 'iasciitab.h', 'internal.h', 'latin1tab.h', 'nametab.h', 'pyexpatns.h', 'siphash.h', 'utf8tab.h', 'winconfig.h', 'xmlparse.c', 'xmlrole.c', 'xmlrole.h', 'xmltok.c', 'xmltok.h', 'xmltok_impl.c', 'xmltok_impl.h', 'xmltok_ns.c']\n",
      "['adler32.c', 'algorithm.txt', 'ChangeLog', 'compress.c', 'configure', 'crc32.c', 'crc32.h', 'deflate.c', 'deflate.h', 'example.c', 'FAQ', 'gzclose.c', 'gzguts.h', 'gzlib.c', 'gzread.c', 'gzwrite.c', 'INDEX', 'infback.c', 'inffast.c', 'inffast.h', 'inffixed.h', 'inflate.c', 'inflate.h', 'inftrees.c', 'inftrees.h', 'Makefile', 'Makefile.in', 'make_vms.com', 'minigzip.c', 'README', 'trees.c', 'trees.h', 'uncompr.c', 'zconf.h', 'zconf.h.cmakein', 'zconf.h.in', 'zlib.3', 'zlib.h', 'zlib.map', 'zlib.pc.in', 'zutil.c', 'zutil.h']\n",
      "['blake2b2s.py', 'blake2b_impl.c', 'blake2module.c', 'blake2ns.h', 'blake2s_impl.c']\n",
      "['blake2b_impl.c.h', 'blake2s_impl.c.h']\n",
      "['blake2-config.h', 'blake2-impl.h', 'blake2.h', 'blake2b-load-sse2.h', 'blake2b-load-sse41.h', 'blake2b-ref.c', 'blake2b-round.h', 'blake2b.c', 'blake2s-load-sse2.h', 'blake2s-load-sse41.h', 'blake2s-load-xop.h', 'blake2s-ref.c', 'blake2s-round.h', 'blake2s.c']\n",
      "['callbacks.c', 'callproc.c', 'cfield.c', 'ctypes.h', 'ctypes_dlfcn.h', 'libffi.diff', 'malloc_closure.c', 'stgdict.c', '_ctypes.c', '_ctypes_test.c', '_ctypes_test.h']\n",
      "['dlfcn.h', 'dlfcn_simple.c', 'LICENSE', 'README', 'README.ctypes']\n",
      "['acinclude.m4', 'aclocal.m4', 'ChangeLog', 'ChangeLog.libffi', 'ChangeLog.libffi-3.1', 'ChangeLog.libgcj', 'ChangeLog.v1', 'compile', 'config.guess', 'config.sub', 'configure', 'configure.ac', 'depcomp', 'fficonfig.h.in', 'fficonfig.py.in', 'generate-darwin-source-and-headers.py', 'install-sh', 'libffi.pc.in', 'libtool-ldflags', 'libtool-version', 'LICENSE', 'ltmain.sh', 'Makefile.am', 'Makefile.in', 'mdate-sh', 'missing', 'msvcc.sh', 'README', 'texinfo.tex']\n",
      "['libffi.info', 'libffi.texi', 'stamp-vti', 'version.texi']\n",
      "['ffi.h.in', 'ffi_common.h', 'Makefile.am', 'Makefile.in']\n",
      "['project.pbxproj']\n",
      "['asmcfi.m4', 'ax_append_flag.m4', 'ax_cc_maxopt.m4', 'ax_cflags_warn_all.m4', 'ax_check_compile_flag.m4', 'ax_compiler_vendor.m4', 'ax_configure_args.m4', 'ax_enable_builddir.m4', 'ax_gcc_archflag.m4', 'ax_gcc_x86_cpuid.m4', 'libtool.m4', 'ltoptions.m4', 'ltsugar.m4', 'ltversion.m4', 'lt~obsolete.m4']\n",
      "['ffi.3', 'ffi_call.3', 'ffi_prep_cif.3', 'ffi_prep_cif_var.3', 'Makefile.am', 'Makefile.in']\n",
      "['closures.c', 'debug.c', 'dlmalloc.c', 'java_raw_api.c', 'prep_cif.c', 'raw_api.c', 'types.c']\n",
      "['ffi.c', 'ffitarget.h', 'sysv.S']\n",
      "['ffi.c', 'ffitarget.h', 'osf.S']\n",
      "['arcompact.S', 'ffi.c', 'ffitarget.h']\n",
      "['ffi.c', 'ffitarget.h', 'gentramp.sh', 'sysv.S', 'trampoline.S']\n",
      "['ffi.c', 'ffitarget.h', 'sysv.S']\n",
      "['ffi.c', 'ffitarget.h', 'sysv.S']\n",
      "['ffi.c', 'ffitarget.h', 'sysv.S']\n",
      "['eabi.S', 'ffi.c', 'ffitarget.h']\n",
      "['ffi.c', 'ffitarget.h', 'ia64_flags.h', 'unix.S']\n",
      "['ffi.c', 'ffitarget.h', 'sysv.S']\n",
      "['ffi.c', 'ffitarget.h', 'sysv.S']\n",
      "['ffi.c', 'ffitarget.h', 'obsd.S']\n",
      "['ffi.c', 'ffitarget.h', 'sysv.S']\n",
      "['ffi.c', 'ffitarget.h', 'sysv.S']\n",
      "['ffi.c', 'ffitarget.h', 'n32.S', 'o32.S']\n",
      "['eabi.S', 'ffi.c', 'ffitarget.h']\n",
      "['ffi.c', 'ffitarget.h', 'sysv.S']\n",
      "['ffi.c', 'ffitarget.h', 'hpux32.S', 'linux.S']\n",
      "['aix.S', 'aix_closure.S', 'asm.h', 'darwin.S', 'darwin_closure.S', 'ffi.c', 'ffitarget.h', 'ffi_darwin.c', 'ffi_linux64.c', 'ffi_powerpc.h', 'ffi_sysv.c', 'linux64.S', 'linux64_closure.S', 'ppc_closure.S', 'sysv.S']\n",
      "['ffi.c', 'ffitarget.h', 'sysv.S']\n",
      "['ffi.c', 'ffitarget.h', 'sysv.S']\n",
      "['ffi.c', 'ffitarget.h', 'sysv.S']\n",
      "['ffi.c', 'ffitarget.h', 'v8.S', 'v9.S']\n",
      "['ffi.c', 'ffitarget.h', 'tile.S']\n",
      "['elfbsd.S', 'ffi.c', 'ffitarget.h']\n",
      "['darwin.S', 'darwin64.S', 'ffi.c', 'ffi64.c', 'ffitarget.h', 'freebsd.S', 'sysv.S', 'unix64.S', 'win32.S', 'win64.S']\n",
      "['ffi.c', 'ffitarget.h', 'sysv.S']\n",
      "['Makefile.am', 'Makefile.in']\n",
      "['default.exp']\n",
      "['libffi.exp', 'target-libpath.exp', 'wrapper.exp']\n",
      "['call.exp', 'closure_fn0.c', 'closure_fn1.c', 'closure_fn2.c', 'closure_fn3.c', 'closure_fn4.c', 'closure_fn5.c', 'closure_fn6.c', 'closure_loc_fn0.c', 'closure_simple.c', 'cls_12byte.c', 'cls_16byte.c', 'cls_18byte.c', 'cls_19byte.c', 'cls_1_1byte.c', 'cls_20byte.c', 'cls_20byte1.c', 'cls_24byte.c', 'cls_2byte.c', 'cls_3byte1.c', 'cls_3byte2.c', 'cls_3_1byte.c', 'cls_4byte.c', 'cls_4_1byte.c', 'cls_5byte.c', 'cls_5_1_byte.c', 'cls_64byte.c', 'cls_6byte.c', 'cls_6_1_byte.c', 'cls_7byte.c', 'cls_7_1_byte.c', 'cls_8byte.c', 'cls_9byte1.c', 'cls_9byte2.c', 'cls_align_double.c', 'cls_align_float.c', 'cls_align_longdouble.c', 'cls_align_longdouble_split.c', 'cls_align_longdouble_split2.c', 'cls_align_pointer.c', 'cls_align_sint16.c', 'cls_align_sint32.c', 'cls_align_sint64.c', 'cls_align_uint16.c', 'cls_align_uint32.c', 'cls_align_uint64.c', 'cls_dbls_struct.c', 'cls_double.c', 'cls_double_va.c', 'cls_float.c', 'cls_longdouble.c', 'cls_longdouble_va.c', 'cls_multi_schar.c', 'cls_multi_sshort.c', 'cls_multi_sshortchar.c', 'cls_multi_uchar.c', 'cls_multi_ushort.c', 'cls_multi_ushortchar.c', 'cls_pointer.c', 'cls_pointer_stack.c', 'cls_schar.c', 'cls_sint.c', 'cls_sshort.c', 'cls_struct_va1.c', 'cls_uchar.c', 'cls_uchar_va.c', 'cls_uint.c', 'cls_uint_va.c', 'cls_ulonglong.c', 'cls_ulong_va.c', 'cls_ushort.c', 'cls_ushort_va.c', 'err_bad_abi.c', 'err_bad_typedef.c', 'ffitest.h', 'float.c', 'float1.c', 'float2.c', 'float3.c', 'float4.c', 'float_va.c', 'huge_struct.c', 'many.c', 'many2.c', 'negint.c', 'nested_struct.c', 'nested_struct1.c', 'nested_struct10.c', 'nested_struct11.c', 'nested_struct2.c', 'nested_struct3.c', 'nested_struct4.c', 'nested_struct5.c', 'nested_struct6.c', 'nested_struct7.c', 'nested_struct8.c', 'nested_struct9.c', 'problem1.c', 'promotion.c', 'pyobjc-tc.c', 'return_dbl.c', 'return_dbl1.c', 'return_dbl2.c', 'return_fl.c', 'return_fl1.c', 'return_fl2.c', 'return_fl3.c', 'return_ldl.c', 'return_ll.c', 'return_ll1.c', 'return_sc.c', 'return_sl.c', 'return_uc.c', 'return_ul.c', 'stret_large.c', 'stret_large2.c', 'stret_medium.c', 'stret_medium2.c', 'strlen.c', 'strlen2.c', 'strlen3.c', 'strlen4.c', 'struct1.c', 'struct2.c', 'struct3.c', 'struct4.c', 'struct5.c', 'struct6.c', 'struct7.c', 'struct8.c', 'struct9.c', 'testclosure.c', 'uninitialized.c', 'unwindtest.cc', 'unwindtest_ffi_call.cc', 'va_1.c', 'va_struct1.c', 'va_struct2.c', 'va_struct3.c']\n",
      "['ffi.c', 'ffi.h', 'fficonfig.h', 'ffitarget.h', 'ffi_common.h', 'LICENSE', 'prep_cif.c', 'README', 'README.ctypes', 'types.c', 'win32.c', 'win64.asm']\n",
      "['ffi.c', 'LICENSE', 'README', 'README.pyobjc', 'types.c']\n",
      "['ffi.h', 'fficonfig.h', 'ffitarget.h', 'ffi_common.h', 'ppc-ffitarget.h', 'x86-ffitarget.h']\n",
      "['ppc-darwin.h', 'ppc-darwin.S', 'ppc-darwin_closure.S', 'ppc-ffi_darwin.c', 'ppc64-darwin_closure.S']\n",
      "['darwin64.S', 'x86-darwin.S', 'x86-ffi64.c', 'x86-ffi_darwin.c']\n",
      "['docstrings.h', 'README.txt', '_decimal.c']\n",
      "['basearith.c', 'basearith.h', 'bits.h', 'constants.c', 'constants.h', 'context.c', 'convolute.c', 'convolute.h', 'crt.c', 'crt.h', 'difradix2.c', 'difradix2.h', 'fnt.c', 'fnt.h', 'fourstep.c', 'fourstep.h', 'io.c', 'io.h', 'memory.c', 'mpalloc.h', 'mpdecimal.c', 'mpdecimal.h', 'numbertheory.c', 'numbertheory.h', 'README.txt', 'sixstep.c', 'sixstep.h', 'transpose.c', 'transpose.h', 'typearith.h', 'umodarith.h', 'vccompat.h', 'vcdiv64.asm', 'vcstdint.h']\n",
      "['bignum.txt', 'fnt.py', 'matrix-transform.txt', 'mulmod-64.txt', 'mulmod-ppro.txt', 'REFERENCES.txt', 'six-step.txt', 'umodarith.lisp']\n",
      "['bench.py', 'bignum.py', 'deccheck.py', 'formathelper.py', 'randdec.py', 'randfloat.py', 'README.txt', 'runall-memorydebugger.sh', 'runall.bat']\n",
      "['bufferedio.c', 'bytesio.c', 'fileio.c', 'iobase.c', 'stringio.c', 'textio.c', 'winconsoleio.c', '_iomodule.c', '_iomodule.h']\n",
      "['bufferedio.c.h', 'bytesio.c.h', 'fileio.c.h', 'iobase.c.h', 'stringio.c.h', 'textio.c.h', 'winconsoleio.c.h', '_iomodule.c.h']\n",
      "['multiprocessing.c', 'multiprocessing.h', 'semaphore.c']\n",
      "['cleanup.py', 'README.txt', 'sha3module.c']\n",
      "['sha3module.c.h']\n",
      "['align.h', 'KeccakHash.c', 'KeccakHash.h', 'KeccakP-1600-64.macros', 'KeccakP-1600-inplace32BI.c', 'KeccakP-1600-opt64-config.h', 'KeccakP-1600-opt64.c', 'KeccakP-1600-SnP-opt32.h', 'KeccakP-1600-SnP-opt64.h', 'KeccakP-1600-SnP.h', 'KeccakP-1600-unrolling.macros', 'KeccakSponge.c', 'KeccakSponge.h', 'KeccakSponge.inc', 'PlSnP-Fallback.inc', 'SnP-Relaned.h']\n",
      "['cache.c', 'cache.h', 'connection.c', 'connection.h', 'cursor.c', 'cursor.h', 'microprotocols.c', 'microprotocols.h', 'module.c', 'module.h', 'prepare_protocol.c', 'prepare_protocol.h', 'row.c', 'row.h', 'statement.c', 'statement.h', 'util.c', 'util.h']\n",
      "['abstract.c', 'accu.c', 'boolobject.c', 'bytearrayobject.c', 'bytesobject.c', 'bytes_methods.c', 'capsule.c', 'cellobject.c', 'classobject.c', 'codeobject.c', 'complexobject.c', 'descrobject.c', 'dict-common.h', 'dictnotes.txt', 'dictobject.c', 'enumobject.c', 'exceptions.c', 'fileobject.c', 'floatobject.c', 'frameobject.c', 'funcobject.c', 'genobject.c', 'iterobject.c', 'listobject.c', 'listsort.txt', 'lnotab_notes.txt', 'longobject.c', 'memoryobject.c', 'methodobject.c', 'moduleobject.c', 'namespaceobject.c', 'object.c', 'obmalloc.c', 'odictobject.c', 'rangeobject.c', 'README', 'setobject.c', 'sliceobject.c', 'structseq.c', 'tupleobject.c', 'typeobject.c', 'typeslots.inc', 'typeslots.py', 'unicodectype.c', 'unicodeobject.c', 'unicodetype_db.h', 'weakrefobject.c']\n",
      "['bytearrayobject.c.h', 'bytesobject.c.h', 'dictobject.c.h', 'unicodeobject.c.h']\n",
      "['asciilib.h', 'codecs.h', 'count.h', 'ctype.h', 'eq.h', 'fastsearch.h', 'find.h', 'find_max_char.h', 'join.h', 'localeutil.h', 'partition.h', 'README.txt', 'replace.h', 'split.h', 'stringdefs.h', 'transmogrify.h', 'ucs1lib.h', 'ucs2lib.h', 'ucs4lib.h', 'undef.h', 'unicodedefs.h', 'unicode_format.h']\n",
      "['acceler.c', 'asdl.py', 'asdl_c.py', 'bitset.c', 'firstsets.c', 'grammar.c', 'grammar1.c', 'listnode.c', 'metagrammar.c', 'myreadline.c', 'node.c', 'parser.c', 'parser.h', 'parsetok.c', 'parsetok_pgen.c', 'pgen.c', 'pgenmain.c', 'printgrammar.c', 'Python.asdl', 'tokenizer.c', 'tokenizer.h', 'tokenizer_pgen.c']\n",
      "['config.c', 'dllbase_nt.txt', 'dl_nt.c', 'empty.c', 'errmap.h', 'errmap.mak', 'frozen_dllmain.c', 'generrmap.c', 'getpathp.c', 'invalid_parameter_handler.c', 'launcher.c', 'msvcrtmodule.c', 'pyconfig.h', 'pylauncher.rc', 'pyshellext.cpp', 'pyshellext.def', 'pyshellext.idl', 'pyshellext.rc', 'pyshellext_d.def', 'python.manifest', 'python3.def', 'python3dll.c', 'pythonw_exe.rc', 'python_exe.rc', 'python_nt.rc', 'python_ver_rc.h', 'readme.txt', 'sqlite3.rc', 'testpy.py', 'validate_ucrtbase.py', 'WinMain.c', 'winreg.c', 'winsound.c', '_findvs.cpp', '_msi.c', '_testconsole.c']\n",
      "['archive.h', 'bdist_wininst.vcxproj', 'bdist_wininst.vcxproj.filters', 'build.bat', 'extract.c', 'install.c', 'install.rc', 'PythonPowered.bmp', 'README.txt', 'resource.h']\n",
      "['msvcrtmodule.c.h', 'winreg.c.h', 'winsound.c.h', '_testconsole.c.h']\n",
      "['Externals.txt']\n",
      "['Setup.Configuration.h']\n",
      "[]\n",
      "['Microsoft.VisualStudio.Setup.Configuration.Native.lib']\n",
      "['Microsoft.VisualStudio.Setup.Configuration.Native.lib']\n",
      "[]\n",
      "['Microsoft.VisualStudio.Setup.Configuration.Native.lib']\n",
      "['Microsoft.VisualStudio.Setup.Configuration.Native.lib']\n",
      "['launcher.icns', 'launcher.ico', 'launcher.svg', 'py.icns', 'py.ico', 'py.svg', 'pyc.icns', 'pyc.ico', 'pyc.svg', 'pyd.icns', 'pyd.ico', 'pyd.svg', 'python.icns', 'python.ico', 'python.svg', 'pythonw.icns', 'pythonw.ico', 'pythonw.svg', 'setup.icns', 'setup.ico', 'setup.svg']\n",
      "['build.bat', 'build_env.bat', 'clean.bat', 'env.bat', 'field3.py', 'find_msbuild.bat', 'find_python.bat', 'get_external.py', 'get_externals.bat', 'idle.bat', 'libeay.vcxproj', 'liblzma.vcxproj', 'openssl.props', 'pcbuild.proj', 'pcbuild.sln', 'prepare_ssl.bat', 'prepare_ssl.py', 'pyexpat.vcxproj', 'pyexpat.vcxproj.filters', 'pylauncher.vcxproj', 'pylauncher.vcxproj.filters', 'pyproject.props', 'pyshellext.vcxproj', 'pyshellext.vcxproj.filters', 'python.props', 'python.vcxproj', 'python.vcxproj.filters', 'python3dll.vcxproj', 'python3dll.vcxproj.filters', 'pythoncore.vcxproj', 'pythoncore.vcxproj.filters', 'pythonw.vcxproj', 'pythonw.vcxproj.filters', 'pywlauncher.vcxproj', 'pywlauncher.vcxproj.filters', 'readme.txt', 'rmpyc.py', 'rt.bat', 'select.vcxproj', 'select.vcxproj.filters', 'sqlite3.vcxproj', 'sqlite3.vcxproj.filters', 'ssleay.vcxproj', 'tcl.vcxproj', 'tcltk.props', 'tix.vcxproj', 'tk.vcxproj', 'unicodedata.vcxproj', 'unicodedata.vcxproj.filters', 'urlretrieve.py', 'winsound.vcxproj', 'winsound.vcxproj.filters', 'xxlimited.vcxproj', 'xxlimited.vcxproj.filters', '_asyncio.vcxproj', '_asyncio.vcxproj.filters', '_bz2.vcxproj', '_bz2.vcxproj.filters', '_ctypes.vcxproj', '_ctypes.vcxproj.filters', '_ctypes_test.vcxproj', '_ctypes_test.vcxproj.filters', '_decimal.vcxproj', '_decimal.vcxproj.filters', '_distutils_findvs.vcxproj', '_distutils_findvs.vcxproj.filters', '_elementtree.vcxproj', '_elementtree.vcxproj.filters', '_freeze_importlib.vcxproj', '_freeze_importlib.vcxproj.filters', '_hashlib.vcxproj', '_hashlib.vcxproj.filters', '_lzma.vcxproj', '_lzma.vcxproj.filters', '_msi.vcxproj', '_msi.vcxproj.filters', '_multiprocessing.vcxproj', '_multiprocessing.vcxproj.filters', '_overlapped.vcxproj', '_overlapped.vcxproj.filters', '_socket.vcxproj', '_socket.vcxproj.filters', '_sqlite3.vcxproj', '_sqlite3.vcxproj.filters', '_ssl.vcxproj', '_ssl.vcxproj.filters', '_testbuffer.vcxproj', '_testbuffer.vcxproj.filters', '_testcapi.vcxproj', '_testcapi.vcxproj.filters', '_testconsole.vcxproj', '_testconsole.vcxproj.filters', '_testembed.vcxproj', '_testembed.vcxproj.filters', '_testimportmultiple.vcxproj', '_testimportmultiple.vcxproj.filters', '_testmultiphase.vcxproj', '_testmultiphase.vcxproj.filters', '_tkinter.vcxproj', '_tkinter.vcxproj.filters']\n",
      "['python.c', 'README', '_freeze_importlib.c', '_testembed.c']\n",
      "['asdl.c', 'ast.c', 'bltinmodule.c', 'ceval.c', 'ceval_gil.h', 'codecs.c', 'compile.c', 'condvar.h', 'dtoa.c', 'dup2.c', 'dynamic_annotations.c', 'dynload_aix.c', 'dynload_dl.c', 'dynload_hpux.c', 'dynload_next.c', 'dynload_shlib.c', 'dynload_stub.c', 'dynload_win.c', 'errors.c', 'fileutils.c', 'formatter_unicode.c', 'frozen.c', 'frozenmain.c', 'future.c', 'getargs.c', 'getcompiler.c', 'getcopyright.c', 'getopt.c', 'getplatform.c', 'getversion.c', 'graminit.c', 'import.c', 'importdl.c', 'importdl.h', 'importlib.h', 'importlib_external.h', 'makeopcodetargets.py', 'marshal.c', 'modsupport.c', 'mysnprintf.c', 'mystrtoul.c', 'opcode_targets.h', 'peephole.c', 'pyarena.c', 'pyctype.c', 'pyfpe.c', 'pyhash.c', 'pylifecycle.c', 'pymath.c', 'pystate.c', 'pystrcmp.c', 'pystrhex.c', 'pystrtod.c', 'Python-ast.c', 'pythonrun.c', 'pytime.c', 'random.c', 'README', 'sigcheck.c', 'strdup.c', 'structmember.c', 'symtable.c', 'sysmodule.c', 'thread.c', 'thread_foobar.h', 'thread_nt.h', 'thread_pthread.h', 'traceback.c', 'wordcode_helpers.h', '_warnings.c']\n",
      "['bltinmodule.c.h', 'import.c.h']\n",
      "['README']\n",
      "['build.bat', 'buildmsi.bat', 'clean.bat', 'test.bat']\n",
      "['ccbench.py']\n",
      "['clinic.py', 'clinic_test.py', 'cpp.py']\n",
      "['beer.py', 'eiffel.py', 'hanoi.py', 'life.py', 'markov.py', 'mcast.py', 'queens.py', 'README', 'redemo.py', 'rpython.py', 'rpythond.py', 'sortvisu.py', 'ss1.py', 'vector.py']\n",
      "['bkfile.py', 'checkextensions.py', 'checkextensions_win32.py', 'extensions_win32.ini', 'flag.py', 'freeze.py', 'hello.py', 'makeconfig.py', 'makefreeze.py', 'makemakefile.py', 'parsesetup.py', 'README', 'win32.html', 'winmakemakefile.py']\n",
      "['Makefile', 'ok.py']\n",
      "['libpython.py']\n",
      "['makelocalealias.py', 'msgfmt.py', 'pygettext.py']\n",
      "['importbench.py', 'README']\n",
      "['iobench.py']\n",
      "['build.bat', 'buildrelease.bat', 'common.wxs', 'common_en-US.wxl_template', 'csv_to_wxs.py', 'distutils.command.bdist_wininst.py', 'generate_md5.py', 'get_externals.bat', 'make_zip.proj', 'make_zip.py', 'msi.props', 'msi.targets', 'purge.py', 'README.txt', 'testrelease.bat', 'uploadrelease.bat', 'uploadrelease.proj', 'wix.props']\n",
      "['bundle.targets', 'bundle.wxl', 'bundle.wxs', 'Default.thm', 'Default.wxl', 'full.wixproj', 'releaselocal.wixproj', 'releaseweb.wixproj', 'SideBar.png', 'snapshot.wixproj']\n",
      "['LICENSE.txt', 'pch.cpp', 'pch.h', 'pythonba.cpp', 'pythonba.def', 'pythonba.sln', 'pythonba.vcxproj', 'PythonBootstrapperApplication.cpp', 'resource.h']\n",
      "['core.wxs', 'crt.wxs', 'dev.wxs', 'doc.wxs', 'exe.wxs', 'launcher.wxs', 'lib.wxs', 'packageinstall.wxs', 'pip.wxs', 'postinstall.wxs', 'tcltk.wxs', 'test.wxs', 'tools.wxs']\n",
      "['core.wixproj', 'core.wxs', 'core_d.wixproj', 'core_d.wxs', 'core_en-US.wxl', 'core_files.wxs', 'core_pdb.wixproj', 'core_pdb.wxs']\n",
      "['dev.wixproj', 'dev.wxs', 'dev_d.wixproj', 'dev_d.wxs', 'dev_en-US.wxl', 'dev_files.wxs']\n",
      "['doc.wixproj', 'doc.wxs', 'doc_en-US.wxl_template', 'doc_files.wxs', 'doc_no_files.wxs']\n",
      "['crtlicense.txt', 'exe.wixproj', 'exe.wxs', 'exe_d.wixproj', 'exe_d.wxs', 'exe_en-US.wxl_template', 'exe_files.wxs', 'exe_pdb.wixproj', 'exe_pdb.wxs', 'exe_reg.wxs']\n",
      "['launcher.wixproj', 'launcher.wxs', 'launcher_en-US.wxl', 'launcher_files.wxs', 'launcher_reg.wxs']\n",
      "['lib.wixproj', 'lib.wxs', 'lib_d.wixproj', 'lib_d.wxs', 'lib_en-US.wxl', 'lib_files.wxs', 'lib_pdb.wixproj', 'lib_pdb.wxs']\n",
      "['path.wixproj', 'path.wxs', 'path_en-US.wxl']\n",
      "['pip.wixproj', 'pip.wxs', 'pip_en-US.wxl']\n",
      "['tcltk.wixproj', 'tcltk.wxs', 'tcltk_d.wixproj', 'tcltk_d.wxs', 'tcltk_en-US.wxl_template', 'tcltk_files.wxs', 'tcltk_pdb.wixproj', 'tcltk_pdb.wxs', 'tcltk_reg.wxs']\n",
      "['test.wixproj', 'test.wxs', 'test_d.wixproj', 'test_d.wxs', 'test_en-US.wxl', 'test_files.wxs', 'test_pdb.wixproj', 'test_pdb.wxs']\n",
      "['tools.wixproj', 'tools.wxs', 'tools_en-US.wxl', 'tools_files.wxs']\n",
      "['build.bat', 'make_pkg.proj', 'python.nuspec', 'python.props', 'pythondaily.nuspec', 'pythonx86.nuspec']\n",
      "['unparse.py']\n",
      "['Arithmetic.py', 'Calls.py', 'clockres.py', 'CommandLine.py', 'Constructs.py', 'Dict.py', 'Exceptions.py', 'Imports.py', 'Instances.py', 'LICENSE', 'Lists.py', 'Lookups.py', 'NewInstances.py', 'Numbers.py', 'pybench.py', 'README', 'Setup.py', 'Strings.py', 'systimes.py', 'Tuples.py', 'Unicode.py', 'With.py']\n",
      "['submodule.py', '__init__.py']\n",
      "['ChipViewer.py', 'ColorDB.py', 'DetailsViewer.py', 'html40colors.txt', 'ListViewer.py', 'Main.py', 'namedcolors.txt', 'pyColorChooser.py', 'pynche', 'pynche.pyw', 'PyncheWidget.py', 'README', 'StripViewer.py', 'Switchboard.py', 'TextViewer.py', 'TypeinViewer.py', 'webcolors.txt', 'websafe.txt', '__init__.py']\n",
      "['rgb.txt', 'xlicense.txt']\n",
      "['2to3', 'abitype.py', 'analyze_dxp.py', 'byext.py', 'byteyears.py', 'checkpip.py', 'checkpyc.py', 'cleanfuture.py', 'combinerefs.py', 'copytime.py', 'crlf.py', 'db2pickle.py', 'diff.py', 'dutree.doc', 'dutree.py', 'eptags.py', 'find-uname.py', 'finddiv.py', 'findlinksto.py', 'findnocoding.py', 'find_recursionlimit.py', 'fixcid.py', 'fixdiv.py', 'fixheader.py', 'fixnotice.py', 'fixps.py', 'generate_opcode_h.py', 'get-remote-certificate.py', 'google.py', 'gprof2html.py', 'h2py.py', 'highlight.py', 'idle3', 'ifdef.py', 'import_diagnostics.py', 'lfcr.py', 'linktree.py', 'lll.py', 'mailerdaemon.py', 'make_ctype.py', 'md5sum.py', 'mkreal.py', 'ndiff.py', 'nm2def.py', 'objgraph.py', 'parseentities.py', 'parse_html5_entities.py', 'patchcheck.py', 'pathfix.py', 'pdeps.py', 'pickle2db.py', 'pindent.py', 'ptags.py', 'pydoc3', 'pysource.py', 'pyvenv', 'README', 'reindent-rst.py', 'reindent.py', 'rgrep.py', 'run_tests.py', 'serve.py', 'suff.py', 'svneol.py', 'texi2html.py', 'treesync.py', 'untabify.py', 'update_file.py', 'which.py', 'win_add2path.py']\n",
      "['make_ssl_data.py', 'multissltests.py', 'sslspeed.vcxproj']\n",
      "['README', 'stringbench.py']\n",
      "['maintest.py', 'README', 'setup.py']\n",
      "['runtests.py', 'test_foo.py']\n",
      "['hello.py', '__init__.py']\n",
      "['zdump.py']\n",
      "['comparecodecs.py', 'gencjkcodecs.py', 'gencodec.py', 'genwincodec.py', 'genwincodecs.bat', 'listcodecs.py', 'Makefile', 'makeunicodedata.py', 'mkstringprep.py']\n",
      "['CP1140.TXT', 'CP273.TXT', 'KOI8-U.TXT', 'TIS-620.TXT']\n",
      "['README.txt', 'unittestgui.py']\n",
      "['Contoso - Cadastro Produtos.csv', 'Contoso - Clientes.csv', 'Contoso - Lojas.csv', 'Contoso - Promocoes.csv', 'Contoso - Vendas  - 2017.csv', 'Gabarito - Python e Power BI 03 (1).ipynb', 'Python e Power BI 01.ipynb', 'Python e Power BI 02.ipynb', 'Python e Power BI 04.ipynb', 'Python e Power BI 05.ipynb']\n",
      "['Gabarito - Python e Power BI 03 (1)-checkpoint.ipynb', 'Python e Power BI 01-checkpoint.ipynb', 'Python e Power BI 02-checkpoint.ipynb', 'Python e Power BI 04-checkpoint.ipynb', 'Python e Power BI 05-checkpoint.ipynb']\n",
      "['Contoso - Cadastro Produtos.csv', 'Contoso - Clientes.csv', 'Contoso - Lojas.csv', 'Contoso - Promocoes.csv', 'Contoso - Vendas  - 2017.csv', 'Gabarito - Pandas 03.ipynb', 'Pandas 03.ipynb']\n",
      "['Gabarito - Pandas 03-checkpoint.ipynb', 'Pandas 03-checkpoint.ipynb']\n",
      "[]\n",
      "['.gitignore', 'CRM.iml', 'misc.xml', 'modules.xml', 'workspace.xml']\n",
      "['profiles_settings.xml']\n",
      "['db.sqlite3', 'manage.py']\n",
      "['admin.py', 'apps.py', 'models.py', 'tests.py', 'urls.py', 'views.py', '__init__.py']\n",
      "['__init__.py']\n",
      "['__init__.cpython-36.pyc']\n",
      "[]\n",
      "['index.html']\n",
      "['admin.cpython-36.pyc', 'apps.cpython-36.pyc', 'models.cpython-36.pyc', 'urls.cpython-36.pyc', 'views.cpython-36.pyc', '__init__.cpython-36.pyc']\n",
      "['asgi.py', 'settings.py', 'urls.py', 'wsgi.py', '__init__.py']\n",
      "['settings.cpython-36.pyc', 'urls.cpython-36.pyc', 'wsgi.cpython-36.pyc', '__init__.cpython-36.pyc']\n"
     ]
    }
   ],
   "source": [
    "for root, dirs, files in os.walk(os.getcwd()):\n",
    "        print(files)"
   ]
  },
  {
   "cell_type": "markdown",
   "metadata": {},
   "source": [
    "## Caminhos ( submódulo os.path)\n",
    "https://python.readthedocs.io/en/stable/library/os.path.html#module-os.path"
   ]
  },
  {
   "cell_type": "markdown",
   "metadata": {},
   "source": [
    "### os.path.basename()"
   ]
  },
  {
   "cell_type": "code",
   "execution_count": 49,
   "metadata": {},
   "outputs": [
    {
     "name": "stdout",
     "output_type": "stream",
     "text": [
      "C:\\Users\\danie\\OneDrive\\Área de Trabalho\n",
      "Área de Trabalho\n"
     ]
    }
   ],
   "source": [
    "print(os.getcwd())\n",
    "print(os.path.basename(os.getcwd()))"
   ]
  },
  {
   "cell_type": "markdown",
   "metadata": {},
   "source": [
    "### os.path.commonpath()"
   ]
  },
  {
   "cell_type": "code",
   "execution_count": 55,
   "metadata": {},
   "outputs": [
    {
     "name": "stdout",
     "output_type": "stream",
     "text": [
      "C:\\Users\\danie\\OneDrive\\Área de Trabalho\\Pasta_raiz\\Pasta Raíz 1\n"
     ]
    }
   ],
   "source": [
    "caminho1=r'C:\\Users\\danie\\OneDrive\\Área de Trabalho\\Pasta_raiz\\Pasta Raíz 1\\Pasta 1'\n",
    "caminho2=r'C:\\Users\\danie\\OneDrive\\Área de Trabalho\\Pasta_raiz\\Pasta Raíz 1\\Pasta 2\\Outra Pasta'\n",
    "print(os.path.commonpath([caminho1,caminho2]))\n"
   ]
  },
  {
   "cell_type": "markdown",
   "metadata": {},
   "source": [
    "### os.path.commonprefix()"
   ]
  },
  {
   "cell_type": "code",
   "execution_count": 56,
   "metadata": {},
   "outputs": [
    {
     "name": "stdout",
     "output_type": "stream",
     "text": [
      "C:\\Users\\danie\\OneDrive\\Área de Trabalho\\Pasta_raiz\\Pasta Raíz 1\\Pasta \n"
     ]
    }
   ],
   "source": [
    "print(os.path.commonprefix([caminho1,caminho2]))"
   ]
  },
  {
   "cell_type": "markdown",
   "metadata": {},
   "source": [
    "### os.path.dirname()"
   ]
  },
  {
   "cell_type": "code",
   "execution_count": 58,
   "metadata": {},
   "outputs": [
    {
     "name": "stdout",
     "output_type": "stream",
     "text": [
      "C:\\Users\\danie\\OneDrive\\Área de Trabalho\\Pasta_raiz\\Pasta Raíz 1\\Pasta 2\n"
     ]
    }
   ],
   "source": [
    "print(os.path.dirname(caminho2))"
   ]
  },
  {
   "cell_type": "markdown",
   "metadata": {},
   "source": [
    "### os.path.join()"
   ]
  },
  {
   "cell_type": "code",
   "execution_count": 67,
   "metadata": {},
   "outputs": [
    {
     "name": "stdout",
     "output_type": "stream",
     "text": [
      "C:\\Users\\danie\\OneDrive\\Área de Trabalho\n"
     ]
    }
   ],
   "source": [
    "drive = \"C:\"\n",
    "usuario = \"danie\"\n",
    "pasta_base = \"Área de Trabalho\"\n",
    "\n",
    "caminho = os.path.join(drive,r'\\Users',usuario,'OneDrive',pasta_base)\n",
    "print(caminho)\n",
    "\n",
    "os.chdir(caminho)"
   ]
  }
 ],
 "metadata": {
  "kernelspec": {
   "display_name": "Python 3 (ipykernel)",
   "language": "python",
   "name": "python3"
  },
  "language_info": {
   "codemirror_mode": {
    "name": "ipython",
    "version": 3
   },
   "file_extension": ".py",
   "mimetype": "text/x-python",
   "name": "python",
   "nbconvert_exporter": "python",
   "pygments_lexer": "ipython3",
   "version": "3.10.6"
  }
 },
 "nbformat": 4,
 "nbformat_minor": 4
}
